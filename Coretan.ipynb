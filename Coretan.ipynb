{
 "cells": [
  {
   "cell_type": "code",
   "execution_count": 1,
   "id": "a072d6ce",
   "metadata": {},
   "outputs": [
    {
     "data": {
      "text/plain": [
       "[1, 2, 3, 4, 5, 6]"
      ]
     },
     "execution_count": 1,
     "metadata": {},
     "output_type": "execute_result"
    }
   ],
   "source": [
    "data=[1,2,3,4,5,6]\n",
    "data+[5,5]\n",
    "data"
   ]
  },
  {
   "cell_type": "code",
   "execution_count": 19,
   "id": "20bb72db",
   "metadata": {},
   "outputs": [
    {
     "data": {
      "text/plain": [
       "6"
      ]
     },
     "execution_count": 19,
     "metadata": {},
     "output_type": "execute_result"
    }
   ],
   "source": [
    "len(data)"
   ]
  },
  {
   "cell_type": "code",
   "execution_count": 17,
   "id": "e6a98576",
   "metadata": {},
   "outputs": [
    {
     "data": {
      "text/plain": [
       "[100, 2, 3, 4, 5, 6]"
      ]
     },
     "execution_count": 17,
     "metadata": {},
     "output_type": "execute_result"
    }
   ],
   "source": [
    "data"
   ]
  },
  {
   "cell_type": "code",
   "execution_count": 9,
   "id": "d690f7cd",
   "metadata": {},
   "outputs": [
    {
     "data": {
      "text/plain": [
       "True"
      ]
     },
     "execution_count": 9,
     "metadata": {},
     "output_type": "execute_result"
    }
   ],
   "source": [
    "data[0]==min(data)"
   ]
  },
  {
   "cell_type": "code",
   "execution_count": 12,
   "id": "5e282927",
   "metadata": {},
   "outputs": [],
   "source": [
    "a=round(1.53442,2)"
   ]
  },
  {
   "cell_type": "code",
   "execution_count": 13,
   "id": "294bfc28",
   "metadata": {},
   "outputs": [
    {
     "data": {
      "text/plain": [
       "1.53"
      ]
     },
     "execution_count": 13,
     "metadata": {},
     "output_type": "execute_result"
    }
   ],
   "source": [
    "a"
   ]
  },
  {
   "cell_type": "code",
   "execution_count": 14,
   "id": "6fd878ac",
   "metadata": {},
   "outputs": [
    {
     "name": "stdout",
     "output_type": "stream",
     "text": [
      "1.53\n"
     ]
    }
   ],
   "source": [
    "print (a)"
   ]
  },
  {
   "cell_type": "code",
   "execution_count": 8,
   "id": "43bce8e5",
   "metadata": {},
   "outputs": [
    {
     "data": {
      "image/png": "[encoded data removed]",
      "text/plain": [
       "<Figure size 432x288 with 1 Axes>"
      ]
     },
     "metadata": {
      "needs_background": "light"
     },
     "output_type": "display_data"
    }
   ],
   "source": [
    "import matplotlib.pyplot as plt\n",
    "fig = plt.figure()\n",
    "ax = fig.add_axes([0,0,1,1])\n",
    "tugas = [80,80,65,79,82]\n",
    "uts = [70,0,85,59,92]\n",
    "uas = [82,92,87,77,84]\n",
    "\n",
    "# hubungan tugas dengan uts\n",
    "ax.scatter(tugas,uts,s=200,c='red')\n",
    "# hubungan tugas dengan uas\n",
    "ax.scatter(tugas,uas,s=150,c='blue')\n",
    "\n",
    "# set label X dan Y\n",
    "ax.set_xlabel('Tugas')\n",
    "ax.set_ylabel('Nilai')\n",
    "ax.set_title('Scatter Plot')\n",
    "\n",
    "# tampilkan\n",
    "plt.show()"
   ]
  },
  {
   "cell_type": "code",
   "execution_count": 22,
   "id": "da73ae70",
   "metadata": {},
   "outputs": [],
   "source": [
    "def abc():\n",
    "    data=[]\n",
    "    n=0\n",
    "    while n<10:\n",
    "        for i in range (1,10):\n",
    "            if i%2==0:\n",
    "                data.append(i)\n",
    "        data=list([])\n",
    "        n+=1\n",
    "    return data"
   ]
  },
  {
   "cell_type": "code",
   "execution_count": 23,
   "id": "749d5d36",
   "metadata": {},
   "outputs": [
    {
     "data": {
      "text/plain": [
       "[]"
      ]
     },
     "execution_count": 23,
     "metadata": {},
     "output_type": "execute_result"
    }
   ],
   "source": [
    "h=abc()\n",
    "h"
   ]
  },
  {
   "cell_type": "code",
   "execution_count": 7,
   "id": "031c14e1",
   "metadata": {},
   "outputs": [
    {
     "data": {
      "text/plain": [
       "[8, 9, 8, 8, 3]"
      ]
     },
     "execution_count": 7,
     "metadata": {},
     "output_type": "execute_result"
    }
   ],
   "source": [
    "from random import randint\n",
    "data=[randint(0,9) for i in range(5)]\n",
    "data"
   ]
  },
  {
   "cell_type": "code",
   "execution_count": 25,
   "id": "079bdd5a",
   "metadata": {},
   "outputs": [
    {
     "name": "stdout",
     "output_type": "stream",
     "text": [
      "[1 0]\n",
      "[0 1]\n",
      "[1 0]\n",
      "[0 1]\n",
      "[0 1]\n",
      "[0 1]\n",
      "[0 1]\n",
      "[1 0]\n",
      "[1 0]\n",
      "[1 0]\n"
     ]
    }
   ],
   "source": [
    "from numpy.random import permutation as rperm\n",
    "for i in range(10):\n",
    "    a=rperm(2)\n",
    "    print(a)"
   ]
  },
  {
   "cell_type": "code",
   "execution_count": 36,
   "id": "1b8eeb2b",
   "metadata": {},
   "outputs": [
    {
     "data": {
      "text/plain": [
       "array([[ 0,  1,  2],\n",
       "       [ 3,  4,  5],\n",
       "       [ 6,  7,  8],\n",
       "       [ 9, 10, 11]])"
      ]
     },
     "execution_count": 36,
     "metadata": {},
     "output_type": "execute_result"
    }
   ],
   "source": [
    "import numpy as np\n",
    "arr = np.arange(12).reshape((4, 3))\n",
    "arr"
   ]
  },
  {
   "cell_type": "code",
   "execution_count": 64,
   "id": "ce347ff5",
   "metadata": {},
   "outputs": [],
   "source": [
    "def jarak(A,B):\n",
    "    h=((A[0]-B[0])**2+(A[1]-B[1])**2)**(1/2)\n",
    "    return h\n",
    "\n",
    "def crosover1(n,data1,data2):\n",
    "    data1temp=list(data1[:n])\n",
    "    data2temp=list(data2[:n])\n",
    "    for i in range(len(data1)):\n",
    "        if data2[(i+n)%len(data1)] not in data1[:n]:\n",
    "            data1temp.append(data2[(i+n)%len(data1)])\n",
    "        if data1[(i+n)%len(data1)] not in data2[:n]:\n",
    "            data2temp.append(data1[(i+n)%len(data1)])\n",
    "    return list([data1temp, data2temp])\n",
    "\n",
    "def GA(dataset,asal):\n",
    "    from random import shuffle, randint\n",
    "    \n",
    "    # Populasi(dataset,asal)\n",
    "    from numpy.random import permutation as perm\n",
    "    banyak=20\n",
    "    populasi1=list([])\n",
    "    for i in range(banyak):\n",
    "        asal2=list([asal])\n",
    "        lokasi2=perm(dataset)\n",
    "        asal2.extend(lokasi2)\n",
    "        populasi1.append(asal2)\n",
    "    ## return populasi1\n",
    "    \n",
    "    beda=True\n",
    "    while beda:\n",
    "        # Menghitung fitnes (populasi1)\n",
    "        populasiterpilih=list([])\n",
    "        jarak1=list([])\n",
    "        for i in populasi1:\n",
    "            jarak2=0\n",
    "            for j in range (len(i)):\n",
    "                jarak3=jarak(i[j],i[(j+1)%len(i)])\n",
    "                jarak2+=jarak3\n",
    "            jarak1.append(jarak2)\n",
    "        ## return jarak1\n",
    "        \n",
    "        # Seleksi(peluang,datajarak,populasi):\n",
    "        jarak2=list(jarak1)\n",
    "        jarak2.sort()\n",
    "        peluang=0.4\n",
    "        jmin1=[jarak2[i] for i in range(int(peluang*len(jarak1)))]\n",
    "        n=0\n",
    "        for i in range(len(jarak1)):\n",
    "            if jarak1[i] in jmin1:\n",
    "                populasiterpilih.append(populasi1[i])\n",
    "                n+=1\n",
    "            if n==peluang*len(populasi1):\n",
    "                break\n",
    "        \n",
    "        # Crosover(data,peluang):\n",
    "        data1=list(populasi1)\n",
    "        peluang=0.4\n",
    "        n=randint(0,len(data1[0]))\n",
    "        for i in range (0,len(data1),2):\n",
    "            h=crosover1(n,data1[i],data1[(i+1)%len(data1)])\n",
    "            data1[i],data1[(i+1)%len(data1)]=h[0],h[1]\n",
    "        ## jarak dari crosover (populasi)\n",
    "        jarak1=list([])\n",
    "        for i in data1:\n",
    "            jarak2=0\n",
    "            for j in range (len(i)):\n",
    "                jarak3=jarak(i[j],i[(j+1)%len(i)])\n",
    "                jarak2+=jarak3\n",
    "            jarak1.append(jarak2)\n",
    "        ## seleksi dari crosover (peluang,datajarak,populasi)\n",
    "        jarak2=list(jarak1)\n",
    "        jarak2.sort()\n",
    "        jmin1=[jarak2[i] for i in range(int(peluang*len(jarak1)))]\n",
    "        n=0\n",
    "        for i in range(len(jarak1)):\n",
    "            if jarak1[i] in jmin1:\n",
    "                populasiterpilih.append(data1[i])\n",
    "                n+=1\n",
    "            if n==peluang*len(populasi1):\n",
    "                break\n",
    "        \n",
    "        # Mutasi(data,peluang):\n",
    "        data1=list(populasi1)\n",
    "        peluang=0.2\n",
    "        n=[randint(1,len(data1[0])-1),randint(1,len(data1[0])-1)]\n",
    "        for i in range (len(data1)):\n",
    "            data1[i][n[0]],data1[i][n[1]]=data1[i][n[1]],data1[i][n[0]]\n",
    "        ## jarak dari mutasi (populasi)\n",
    "        jarak1=list([])\n",
    "        for i in data1:\n",
    "            jarak2=0\n",
    "            for j in range (len(i)):\n",
    "                jarak3=jarak(i[j],i[(j+1)%len(i)])\n",
    "                jarak2+=jarak3\n",
    "            jarak1.append(jarak2)\n",
    "        ## seleksi dari mutasi (peluang,datajarak,populasi)\n",
    "        jarak2=list(jarak1)\n",
    "        jarak2.sort()\n",
    "        jmin1=[jarak2[i] for i in range(int(peluang*len(jarak1)))]\n",
    "        n=0\n",
    "        for i in range(len(jarak1)):\n",
    "            if jarak1[i] in jmin1:\n",
    "                populasiterpilih.append(data1[i])\n",
    "                n+=1\n",
    "            if n==peluang*len(populasi1):\n",
    "                break\n",
    "        \n",
    "        ## jarak dari populasi terpilih (populasi)\n",
    "        jarak1=list([])\n",
    "        for i in populasiterpilih:\n",
    "            jarak2=0\n",
    "            for j in range (len(i)):\n",
    "                jarak3=jarak(i[j],i[(j+1)%len(i)])\n",
    "                jarak2+=jarak3\n",
    "            jarak1.append(jarak2)\n",
    "        jarak1.sort()\n",
    "        if jarak1[0]==jarak1[9]:\n",
    "            beda=False\n",
    "        populasi1=list(populasiterpilih)\n",
    "    #return populasiterpilih\n",
    "    return populasiterpilih[randint(0,len(populasiterpilih)-1)]"
   ]
  },
  {
   "cell_type": "code",
   "execution_count": 37,
   "id": "de5f996e",
   "metadata": {},
   "outputs": [
    {
     "data": {
      "text/plain": [
       "<matplotlib.collections.PathCollection at 0x1942fd817c0>"
      ]
     },
     "execution_count": 37,
     "metadata": {},
     "output_type": "execute_result"
    },
    {
     "data": {
      "image/png": "[encoded data removed]",
      "text/plain": [
       "<Figure size 432x288 with 1 Axes>"
      ]
     },
     "metadata": {
      "needs_background": "light"
     },
     "output_type": "display_data"
    }
   ],
   "source": [
    "from random import randint, seed\n",
    "import matplotlib.pyplot as plt\n",
    "seed(5)\n",
    "dataset=[[randint(0,999),randint(0,999)] for i in range(10)]\n",
    "titikasal=[0,0]\n",
    "plt.scatter([i[0] for i in dataset],[i[1] for i in dataset])\n",
    "plt.scatter(titikasal[0],titikasal[1],c='black',s=100)"
   ]
  },
  {
   "cell_type": "code",
   "execution_count": 38,
   "id": "43aff754",
   "metadata": {},
   "outputs": [],
   "source": [
    "from numpy.random import permutation as perm\n",
    "a=list(perm(dataset))\n",
    "for i in range(len(a)):\n",
    "    a[i]=list(a[i])\n",
    "b=list(perm(dataset))\n",
    "for i in range(len(a)):\n",
    "    b[i]=list(b[i])"
   ]
  },
  {
   "cell_type": "code",
   "execution_count": 39,
   "id": "316a06d0",
   "metadata": {},
   "outputs": [
    {
     "name": "stdout",
     "output_type": "stream",
     "text": [
      "[[476, 794], [814, 707], [664, 53], [965, 255], [29, 860], [637, 261], [757, 667], [759, 367], [944, 542], [965, 861]]\n",
      "[[965, 861], [637, 261], [759, 367], [944, 542], [814, 707], [476, 794], [664, 53], [29, 860], [757, 667], [965, 255]]\n"
     ]
    }
   ],
   "source": [
    "print(a)\n",
    "print(b)"
   ]
  },
  {
   "cell_type": "code",
   "execution_count": 40,
   "id": "3ae79ae9",
   "metadata": {},
   "outputs": [
    {
     "data": {
      "text/plain": [
       "3628800"
      ]
     },
     "execution_count": 40,
     "metadata": {},
     "output_type": "execute_result"
    }
   ],
   "source": [
    "from itertools import permutations as perm\n",
    "a=[i for i in range(10)]\n",
    "b=perm(a)\n",
    "len(list(b))"
   ]
  },
  {
   "cell_type": "code",
   "execution_count": 41,
   "id": "cc61ef81",
   "metadata": {},
   "outputs": [],
   "source": [
    "def jarak(A,B):\n",
    "    h=((A[0]-B[0])**2+(A[1]-B[1])**2)**(1/2)\n",
    "    return h\n",
    "\n",
    "def crosover1(n,data1,data2):\n",
    "    data1temp=list(data1[:n])\n",
    "    data2temp=list(data2[:n])\n",
    "    for i in range(len(data1)):\n",
    "        if data2[(i+n)%len(data1)] not in data1[:n]:\n",
    "            data1temp.append(data2[(i+n)%len(data2)])\n",
    "        if data1[(i+n)%len(data1)] not in data2[:n]:\n",
    "            data2temp.append(data1[(i+n)%len(data1)])\n",
    "    return list([data1temp, data2temp])"
   ]
  },
  {
   "cell_type": "markdown",
   "id": "9d272395",
   "metadata": {},
   "source": [
    "# Coretan 3"
   ]
  },
  {
   "cell_type": "code",
   "execution_count": 117,
   "id": "45b735e3",
   "metadata": {},
   "outputs": [
    {
     "data": {
      "text/plain": [
       "<matplotlib.collections.PathCollection at 0x194300914c0>"
      ]
     },
     "execution_count": 117,
     "metadata": {},
     "output_type": "execute_result"
    },
    {
     "data": {
      "image/png": "[encoded data removed]",
      "text/plain": [
       "<Figure size 432x288 with 1 Axes>"
      ]
     },
     "metadata": {
      "needs_background": "light"
     },
     "output_type": "display_data"
    }
   ],
   "source": [
    "from random import randint, seed\n",
    "seed(23)\n",
    "dataset=[[randint(0,199),randint(0,199)] for i in range (10)]\n",
    "titikasal=[0,0]\n",
    "import matplotlib.pyplot as plt\n",
    "plt.scatter([i[0] for i in dataset],[i[1] for i in dataset])\n",
    "plt.scatter(titikasal[0],titikasal[1],c='black',s=100)"
   ]
  },
  {
   "cell_type": "code",
   "execution_count": 118,
   "id": "876084fb",
   "metadata": {},
   "outputs": [
    {
     "name": "stdout",
     "output_type": "stream",
     "text": [
      "sukses \"populasi1\"\n"
     ]
    }
   ],
   "source": [
    "from random import shuffle, randint, random\n",
    "# Populasi(dataset,asal)\n",
    "banyak=12\n",
    "populasi1=list([])\n",
    "lokasi2=list(dataset)\n",
    "for i in range(banyak):\n",
    "    asal2=list([titikasal])\n",
    "    shuffle(lokasi2)\n",
    "    asal2.extend(lokasi2)\n",
    "    populasi1.append(asal2)\n",
    "print('sukses \"populasi1\"')\n",
    "#populasi1"
   ]
  },
  {
   "cell_type": "code",
   "execution_count": 119,
   "id": "84542f1c",
   "metadata": {},
   "outputs": [
    {
     "data": {
      "text/plain": [
       "[918.8625654956065,\n",
       " 1160.4247877699286,\n",
       " 1188.1141270737626,\n",
       " 1278.2337624682227,\n",
       " 1310.6751607149215,\n",
       " 1395.778001241161,\n",
       " 1107.7643593837404,\n",
       " 1223.6879332372273,\n",
       " 1313.7621230501722,\n",
       " 1244.1147357002048,\n",
       " 1465.4084251193217,\n",
       " 1394.0850978639714]"
      ]
     },
     "execution_count": 119,
     "metadata": {},
     "output_type": "execute_result"
    }
   ],
   "source": [
    "# jarak dari populasi asal (populasi)\n",
    "fitnes1=list([])\n",
    "for i in populasi1:\n",
    "    jarak2=0\n",
    "    for j in range (len(i)):\n",
    "        jarak3=jarak(i[j],i[(j+1)%len(i)])\n",
    "        jarak2+=jarak3\n",
    "    fitnes1.append(jarak2)\n",
    "fitnes1"
   ]
  },
  {
   "cell_type": "code",
   "execution_count": 120,
   "id": "6c22dd80",
   "metadata": {},
   "outputs": [
    {
     "data": {
      "text/plain": [
       "6"
      ]
     },
     "execution_count": 120,
     "metadata": {},
     "output_type": "execute_result"
    }
   ],
   "source": [
    "populasiterpilih=list([])\n",
    "# Seleksi(peluang,datajarak,populasi):\n",
    "for i in range(0,len(jarak1),2):\n",
    "    if fitnes1[i]<fitnes1[(i+1)]:\n",
    "        populasiterpilih.append(populasi1[i])\n",
    "    elif fitnes1[i]>=fitnes1[i+1]:\n",
    "        populasiterpilih.append(populasi1[i+1])\n",
    "len(populasiterpilih)"
   ]
  },
  {
   "cell_type": "code",
   "execution_count": 121,
   "id": "c81bf155",
   "metadata": {},
   "outputs": [
    {
     "data": {
      "text/plain": [
       "0.97"
      ]
     },
     "execution_count": 121,
     "metadata": {},
     "output_type": "execute_result"
    }
   ],
   "source": [
    "r=0.97\n",
    "r"
   ]
  },
  {
   "cell_type": "code",
   "execution_count": 122,
   "id": "c9f9a004",
   "metadata": {},
   "outputs": [
    {
     "data": {
      "text/plain": [
       "6"
      ]
     },
     "execution_count": 122,
     "metadata": {},
     "output_type": "execute_result"
    }
   ],
   "source": [
    "# Crosover(data,peluang):\n",
    "if r<0.95:\n",
    "    n=randint(0,len(populasiterpilih)-1)\n",
    "    for i in range (0,len(populasiterpilih),2):\n",
    "        h=crosover1(n,populasiterpilih[i],populasiterpilih[(i+1)%len(populasiterpilih)])\n",
    "        populasiterpilih[i],populasiterpilih[(i+1)%len(populasiterpilih)]=h[0],h[1]\n",
    "len(populasiterpilih)"
   ]
  },
  {
   "cell_type": "code",
   "execution_count": 123,
   "id": "cf4c6712",
   "metadata": {},
   "outputs": [
    {
     "name": "stdout",
     "output_type": "stream",
     "text": [
      "6\n"
     ]
    },
    {
     "data": {
      "text/plain": [
       "6"
      ]
     },
     "execution_count": 123,
     "metadata": {},
     "output_type": "execute_result"
    }
   ],
   "source": [
    "if r<0.01:\n",
    "    n=[randint(1,len(populasiterpilih[0])-1),randint(1,len(populasiterpilih[0])-1)]\n",
    "    for i in range (len(populasiterpilih)):\n",
    "        populasiterpilih[i][n[0]],populasiterpilih[i][n[1]]=populasiterpilih[i][n[1]],populasiterpilih[i][n[0]]\n",
    "print(n)\n",
    "len(populasiterpilih)"
   ]
  },
  {
   "cell_type": "code",
   "execution_count": 124,
   "id": "d1bd31db",
   "metadata": {},
   "outputs": [
    {
     "data": {
      "text/plain": [
       "[918.8625654956065,\n",
       " 1160.4247877699286,\n",
       " 1188.1141270737626,\n",
       " 1278.2337624682227,\n",
       " 1310.6751607149215,\n",
       " 1395.778001241161,\n",
       " 1107.7643593837404,\n",
       " 1223.6879332372273,\n",
       " 1313.7621230501722,\n",
       " 1244.1147357002048,\n",
       " 1465.4084251193217,\n",
       " 1394.0850978639714]"
      ]
     },
     "execution_count": 124,
     "metadata": {},
     "output_type": "execute_result"
    }
   ],
   "source": [
    "fitnes1"
   ]
  },
  {
   "cell_type": "code",
   "execution_count": 125,
   "id": "9ab9f4aa",
   "metadata": {},
   "outputs": [
    {
     "data": {
      "text/plain": [
       "12"
      ]
     },
     "execution_count": 125,
     "metadata": {},
     "output_type": "execute_result"
    }
   ],
   "source": [
    "jarak2=list(fitnes1)\n",
    "jarak2.sort()\n",
    "jarak2.reverse()\n",
    "jmax=list(jarak2[:int(len(jarak2)/2)])\n",
    "n=0\n",
    "for i in range(len(jarak1)):\n",
    "    if jarak1[i] in jmax:\n",
    "        populasi1[i]=populasiterpilih[n]\n",
    "        n+=1\n",
    "len(populasi1)"
   ]
  },
  {
   "cell_type": "code",
   "execution_count": 126,
   "id": "0e9de250",
   "metadata": {},
   "outputs": [
    {
     "data": {
      "text/plain": [
       "[0, 1, 2, 3, 4, 5, 6, 7, 8, 9]"
      ]
     },
     "execution_count": 126,
     "metadata": {},
     "output_type": "execute_result"
    }
   ],
   "source": [
    "asd=[i for i in range(10)]\n",
    "asd"
   ]
  },
  {
   "cell_type": "code",
   "execution_count": 127,
   "id": "6c21cab4",
   "metadata": {},
   "outputs": [],
   "source": [
    "asd2=list(asd[:5])"
   ]
  },
  {
   "cell_type": "code",
   "execution_count": 88,
   "id": "3d743059",
   "metadata": {},
   "outputs": [
    {
     "data": {
      "text/plain": [
       "[0, 1, 2, 3, 4]"
      ]
     },
     "execution_count": 88,
     "metadata": {},
     "output_type": "execute_result"
    }
   ],
   "source": [
    "asd2"
   ]
  },
  {
   "cell_type": "code",
   "execution_count": 6,
   "id": "cf6944c3",
   "metadata": {},
   "outputs": [
    {
     "data": {
      "text/plain": [
       "[[12, 49], [28, 90], [96, 28], [100, 16], [96, 28]]"
      ]
     },
     "execution_count": 6,
     "metadata": {},
     "output_type": "execute_result"
    }
   ],
   "source": [
    "from random import randint, choice\n",
    "data=[[randint(1,100),randint(1,100)] for i in range (10)]\n",
    "a=list([choice(data) for i in range (5)])\n",
    "a"
   ]
  },
  {
   "cell_type": "code",
   "execution_count": null,
   "id": "61d0cd87",
   "metadata": {},
   "outputs": [],
   "source": []
  }
 ],
 "metadata": {
  "kernelspec": {
   "display_name": "Python 3",
   "language": "python",
   "name": "python3"
  },
  "language_info": {
   "codemirror_mode": {
    "name": "ipython",
    "version": 3
   },
   "file_extension": ".py",
   "mimetype": "text/x-python",
   "name": "python",
   "nbconvert_exporter": "python",
   "pygments_lexer": "ipython3",
   "version": "3.8.8"
  }
 },
 "nbformat": 4,
 "nbformat_minor": 5
}
