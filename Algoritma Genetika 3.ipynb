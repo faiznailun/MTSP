{
 "cells": [
  {
   "cell_type": "markdown",
   "id": "0fc54513",
   "metadata": {},
   "source": [
    "# Dataset"
   ]
  },
  {
   "cell_type": "code",
   "execution_count": 85,
   "id": "da1b72f1",
   "metadata": {},
   "outputs": [],
   "source": [
    "from random import randint, seed\n",
    "seed(25)\n",
    "dataset=[[randint(0,199),randint(0,199)] for i in range (8)]\n",
    "titikasal=[0,0]"
   ]
  },
  {
   "cell_type": "code",
   "execution_count": 86,
   "id": "177bf3f4",
   "metadata": {},
   "outputs": [
    {
     "data": {
      "text/plain": [
       "<matplotlib.collections.PathCollection at 0x16109a52ee0>"
      ]
     },
     "execution_count": 86,
     "metadata": {},
     "output_type": "execute_result"
    },
    {
     "data": {
      "image/png": "[encoded data removed]",
      "text/plain": [
       "<Figure size 432x288 with 1 Axes>"
      ]
     },
     "metadata": {
      "needs_background": "light"
     },
     "output_type": "display_data"
    }
   ],
   "source": [
    "import matplotlib.pyplot as plt\n",
    "plt.scatter([i[0] for i in dataset],[i[1] for i in dataset])\n",
    "plt.scatter(titikasal[0],titikasal[1],c='black',s=100)"
   ]
  },
  {
   "cell_type": "markdown",
   "id": "db882f4a",
   "metadata": {},
   "source": [
    "# Proses"
   ]
  },
  {
   "cell_type": "code",
   "execution_count": 87,
   "id": "68cedf59",
   "metadata": {},
   "outputs": [],
   "source": [
    "def jarak(A,B):\n",
    "    h=((A[0]-B[0])**2+(A[1]-B[1])**2)**(1/2)\n",
    "    return h\n",
    "\n",
    "def crosover1(n,data1,data2):\n",
    "    data1temp=list(data1[:n])\n",
    "    data2temp=list(data2[:n])\n",
    "    for i in range(len(data1)):\n",
    "        if data2[(i+n)%len(data1)] not in data1[:n]:\n",
    "            data1temp.append(data2[(i+n)%len(data2)])\n",
    "        if data1[(i+n)%len(data1)] not in data2[:n]:\n",
    "            data2temp.append(data1[(i+n)%len(data1)])\n",
    "    return list([data1temp, data2temp])\n",
    "\n",
    "def GA(dataset,asal):\n",
    "    from random import shuffle, randint, random\n",
    "    \n",
    "    # Populasi(dataset,asal)\n",
    "    banyak=48\n",
    "    populasi1=list([])\n",
    "    lokasi2=list(dataset)\n",
    "    for i in range(banyak):\n",
    "        asal2=list([asal])\n",
    "        shuffle(lokasi2)\n",
    "        asal2.extend(lokasi2)\n",
    "        populasi1.append(asal2)\n",
    "    ## return populasi1\n",
    "    \n",
    "    #beda=True\n",
    "    count=0\n",
    "    while count<1000:\n",
    "        # jarak dari populasi asal (populasi)\n",
    "        fitnes1=list([])\n",
    "        for i in populasi1:\n",
    "            jarak2=0\n",
    "            for j in range (len(i)):\n",
    "                jarak3=jarak(i[j],i[(j+1)%len(i)])\n",
    "                jarak2+=jarak3\n",
    "            fitnes1.append(jarak2)\n",
    "        ## dihasilkan jarak1\n",
    "        \n",
    "        populasiterpilih=list([])\n",
    "        # Seleksi(peluang,datajarak,populasi):\n",
    "        for i in range(0,len(fitnes1),2):\n",
    "            if fitnes1[i]<fitnes1[(i+1)]:\n",
    "                populasiterpilih.append(populasi1[i])\n",
    "            elif fitnes1[i]>=fitnes1[i+1]:\n",
    "                populasiterpilih.append(populasi1[i+1])\n",
    "        ## return populasiterpilih\n",
    "        \n",
    "        r=random()\n",
    "        # Crosover(data,peluang):\n",
    "        if r<0.95:\n",
    "            n=randint(0,len(populasiterpilih)-1)\n",
    "            for i in range (0,len(populasiterpilih),2):\n",
    "                h=crosover1(n,populasiterpilih[i],populasiterpilih[(i+1)%len(populasiterpilih)])\n",
    "                populasiterpilih[i],populasiterpilih[(i+1)%len(populasiterpilih)]=h[0],h[1]\n",
    "        ## dihasilkan populasi terpilih\n",
    "        \n",
    "        # Mutasi(data,peluang):\n",
    "        if r<0.01:\n",
    "            n=[randint(1,len(populasiterpilih[0])-1),randint(1,len(populasiterpilih[0])-1)]\n",
    "            for i in range (len(populasiterpilih)):\n",
    "                populasiterpilih[i][n[0]],populasiterpilih[i][n[1]]=populasiterpilih[i][n[1]],populasiterpilih[i][n[0]]\n",
    "        ## dihasilkan populasi terpilih\n",
    "        if r>=0.95:\n",
    "            populasiterpilih=list(populasi1)\n",
    "        \n",
    "        # penggantian populasi1\n",
    "        jarak2=list(fitnes1)\n",
    "        jarak2.sort()\n",
    "        jarak2.reverse()\n",
    "        jmax=list(jarak2[:int(len(jarak2)/2)])\n",
    "        n=0\n",
    "        for i in range(len(fitnes1)):\n",
    "            if fitnes1[i] in jmax and jmax[n]>=fitnes1[i]:\n",
    "                populasi1[i]=populasiterpilih[n]\n",
    "                n+=1\n",
    "            if n==len(jmax):\n",
    "                break\n",
    "        \n",
    "        #fitnes1.sort()\n",
    "        #if fitnes1[0]==fitnes1[len(fitnes1)-1]:\n",
    "            #beda=False\n",
    "        count+=1\n",
    "    \n",
    "    #return\n",
    "    fitnes1=list([])\n",
    "    for i in populasi1:\n",
    "        jarak2=0\n",
    "        for j in range (len(i)):\n",
    "            jarak3=jarak(i[j],i[(j+1)%len(i)])\n",
    "            jarak2+=jarak3\n",
    "        fitnes1.append(jarak2)\n",
    "    a=min(fitnes1)\n",
    "    b=0\n",
    "    for i in range(len(fitnes1)):\n",
    "        if fitnes1[i]==a:\n",
    "            b=i\n",
    "    return populasi1[b]\n",
    "    #return count"
   ]
  },
  {
   "cell_type": "code",
   "execution_count": 88,
   "id": "c809f340",
   "metadata": {},
   "outputs": [
    {
     "data": {
      "text/plain": [
       "<matplotlib.collections.PathCollection at 0x1610aabbdf0>"
      ]
     },
     "execution_count": 88,
     "metadata": {},
     "output_type": "execute_result"
    },
    {
     "data": {
      "image/png": "[encoded data removed]",
      "text/plain": [
       "<Figure size 432x288 with 1 Axes>"
      ]
     },
     "metadata": {
      "needs_background": "light"
     },
     "output_type": "display_data"
    }
   ],
   "source": [
    "populasi=GA(dataset,titikasal)\n",
    "\n",
    "import matplotlib.pyplot as plt\n",
    "plt.plot([i[0] for i in populasi],[i[1] for i in populasi])\n",
    "plt.scatter(titikasal[0],titikasal[1],c='red')\n",
    "plt.scatter([i[0] for i in dataset],[i[1] for i in dataset],c='yellow')"
   ]
  },
  {
   "cell_type": "code",
   "execution_count": 20,
   "id": "24c240cb",
   "metadata": {},
   "outputs": [
    {
     "data": {
      "text/plain": [
       "[9, 8, 7, 6, 5, 4, 3, 2, 1, 0]"
      ]
     },
     "execution_count": 20,
     "metadata": {},
     "output_type": "execute_result"
    }
   ],
   "source": [
    "data1=[i for i in range(10)]\n",
    "data1.reverse()\n",
    "data1"
   ]
  },
  {
   "cell_type": "code",
   "execution_count": 21,
   "id": "f9d630a4",
   "metadata": {},
   "outputs": [
    {
     "data": {
      "text/plain": [
       "[9, 8, 7, 6, 5]"
      ]
     },
     "execution_count": 21,
     "metadata": {},
     "output_type": "execute_result"
    }
   ],
   "source": [
    "data2=list(data1[:int(len(data1)/2)])\n",
    "data2"
   ]
  },
  {
   "cell_type": "code",
   "execution_count": 14,
   "id": "cce572f2",
   "metadata": {},
   "outputs": [
    {
     "name": "stdout",
     "output_type": "stream",
     "text": [
      "[0, 1, 2, 6, 5, 4, 3, 9, 8, 7]\n",
      "[9, 8, 7, 3, 4, 5, 6, 0, 1, 2]\n"
     ]
    }
   ],
   "source": [
    "cr=crosover1(3,data1,data2)\n",
    "print(cr[0])\n",
    "print(cr[1])"
   ]
  },
  {
   "cell_type": "code",
   "execution_count": null,
   "id": "cef2eb29",
   "metadata": {},
   "outputs": [],
   "source": []
  }
 ],
 "metadata": {
  "kernelspec": {
   "display_name": "Python 3",
   "language": "python",
   "name": "python3"
  },
  "language_info": {
   "codemirror_mode": {
    "name": "ipython",
    "version": 3
   },
   "file_extension": ".py",
   "mimetype": "text/x-python",
   "name": "python",
   "nbconvert_exporter": "python",
   "pygments_lexer": "ipython3",
   "version": "3.8.8"
  }
 },
 "nbformat": 4,
 "nbformat_minor": 5
}
