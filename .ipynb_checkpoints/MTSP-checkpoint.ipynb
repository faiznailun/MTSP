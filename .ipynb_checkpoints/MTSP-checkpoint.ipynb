{
 "cells": [
  {
   "cell_type": "markdown",
   "id": "449cb16c",
   "metadata": {},
   "source": [
    "# 0. Definisi Fungsi"
   ]
  },
  {
   "cell_type": "markdown",
   "id": "edaddc5f",
   "metadata": {},
   "source": [
    "#### Dataset"
   ]
  },
  {
   "cell_type": "code",
   "execution_count": 91,
   "id": "640a733d",
   "metadata": {},
   "outputs": [],
   "source": [
    "from random import randint, seed\n",
    "import matplotlib.pyplot as plt"
   ]
  },
  {
   "cell_type": "code",
   "execution_count": 92,
   "id": "c884a174",
   "metadata": {},
   "outputs": [],
   "source": [
    "def jarak(A,B):\n",
    "    h=((A[0]-B[0])**2+(A[1]-B[1])**2)**(1/2)\n",
    "    return h"
   ]
  },
  {
   "cell_type": "markdown",
   "id": "2d22df93",
   "metadata": {},
   "source": [
    "#### K-Means"
   ]
  },
  {
   "cell_type": "code",
   "execution_count": 93,
   "id": "e3273801",
   "metadata": {},
   "outputs": [],
   "source": [
    "def KMeans(n,dataset):\n",
    "    from random import choice\n",
    "    banyak=n\n",
    "    centroid=list([choice(dataset) for i in range(banyak)])\n",
    "    berubah=True\n",
    "    c1=[]\n",
    "    c2=[1]\n",
    "    c3=[2]\n",
    "    while berubah:\n",
    "        cluster=[]\n",
    "        for i in range (len(centroid)):\n",
    "            clustertemp=[]\n",
    "            # menghitung jarak dataset ke centroid\n",
    "            for j in range (len(dataset)):\n",
    "                jarak1=[]\n",
    "                for k in range (len(centroid)):\n",
    "                    h=jarak(dataset[j],centroid[k])\n",
    "                    jarak1.append(h)\n",
    "                # memasukan data ke klaster\n",
    "                if jarak1.index(min(jarak1))==i:\n",
    "                    clustertemp.append(dataset[j])\n",
    "            cluster.append(clustertemp)\n",
    "        #menentukan centroid baru\n",
    "        for i in range (len(cluster)):\n",
    "            jumlahx=0\n",
    "            jumlahy=0\n",
    "            for j in range (len(cluster[i])):\n",
    "                jumlahx+=cluster[i][j][0]\n",
    "                jumlahy+=cluster[i][j][1]\n",
    "            centroid[i]=[jumlahx/len(cluster[i]),jumlahy/len(cluster[i])]\n",
    "        \n",
    "        c3=c2\n",
    "        c2=c1\n",
    "        c1=centroid\n",
    "        if c2==c1 and c2==c3 and c1==c3:\n",
    "            berubah=False\n",
    "        \n",
    "    ##mencari titik pusat\n",
    "    jumlahx=0\n",
    "    jumlahy=0\n",
    "    for i in centroid:\n",
    "        jumlahx+=i[0]\n",
    "        jumlahy+=i[1]\n",
    "    pusat=list([jumlahx/len(centroid),jumlahy/len(centroid)])\n",
    "    return cluster,pusat"
   ]
  },
  {
   "cell_type": "markdown",
   "id": "62f07430",
   "metadata": {},
   "source": [
    "#### Algoritma Genetika (GA)"
   ]
  },
  {
   "cell_type": "code",
   "execution_count": 94,
   "id": "c4564c71",
   "metadata": {},
   "outputs": [],
   "source": [
    "def crosover1(n,data1,data2):\n",
    "    data1temp=list(data1[:n])\n",
    "    data2temp=list(data2[:n])\n",
    "    for i in range(len(data1)):\n",
    "        if data2[(i+n)%len(data1)] not in data1[:n]:\n",
    "            data1temp.append(data2[(i+n)%len(data2)])\n",
    "        if data1[(i+n)%len(data1)] not in data2[:n]:\n",
    "            data2temp.append(data1[(i+n)%len(data1)])\n",
    "    return list([data1temp, data2temp])\n",
    "\n",
    "def GA(dataset,asal):\n",
    "    from random import shuffle, randint, random\n",
    "    \n",
    "    # membuat populasi(dataset,asal)\n",
    "    banyak=48\n",
    "    populasi1=list([])\n",
    "    lokasi2=list(dataset)\n",
    "    for i in range(banyak):\n",
    "        asal2=list([asal])\n",
    "        shuffle(lokasi2)\n",
    "        asal2.extend(lokasi2)\n",
    "        populasi1.append(asal2)\n",
    "    \n",
    "    \n",
    "    count=0\n",
    "    while count<1000:\n",
    "        # jarak dari populasi asal (populasi)\n",
    "        fitnes1=list([])\n",
    "        for i in populasi1:\n",
    "            jarak2=0\n",
    "            for j in range (len(i)):\n",
    "                jarak3=jarak(i[j],i[(j+1)%len(i)])\n",
    "                jarak2+=jarak3\n",
    "            fitnes1.append(jarak2)\n",
    "        ## dihasilkan jarak1\n",
    "        \n",
    "        populasiterpilih=list([])\n",
    "        # Seleksi(peluang,datajarak,populasi):\n",
    "        for i in range(0,len(fitnes1),2):\n",
    "            if fitnes1[i]<fitnes1[(i+1)]:\n",
    "                populasiterpilih.append(populasi1[i])\n",
    "            elif fitnes1[i]>=fitnes1[i+1]:\n",
    "                populasiterpilih.append(populasi1[i+1])\n",
    "        ## return populasiterpilih\n",
    "        \n",
    "        r=random()\n",
    "        # Crosover(data,peluang):\n",
    "        if r<0.95:\n",
    "            n=randint(0,len(populasiterpilih)-1)\n",
    "            for i in range (0,len(populasiterpilih),2):\n",
    "                h=crosover1(n,populasiterpilih[i],populasiterpilih[(i+1)%len(populasiterpilih)])\n",
    "                populasiterpilih[i],populasiterpilih[(i+1)%len(populasiterpilih)]=h[0],h[1]\n",
    "        ## dihasilkan populasi terpilih\n",
    "        \n",
    "        r=random()\n",
    "        # Mutasi(data,peluang):\n",
    "        if r<0.01:\n",
    "            n=[randint(1,len(populasiterpilih[0])-1),randint(1,len(populasiterpilih[0])-1)]\n",
    "            for i in range (len(populasiterpilih)):\n",
    "                populasiterpilih[i][n[0]],populasiterpilih[i][n[1]]=populasiterpilih[i][n[1]],populasiterpilih[i][n[0]]\n",
    "        ## dihasilkan populasi terpilih\n",
    "        if r>=0.95:\n",
    "            populasiterpilih=list(populasi1)\n",
    "        \n",
    "        # penggantian populasi1\n",
    "        jarak2=list(fitnes1)\n",
    "        jarak2.sort()\n",
    "        jarak2.reverse()\n",
    "        jmax=list(jarak2[:int(len(jarak2)/2)])\n",
    "        n=0\n",
    "        for i in range(len(fitnes1)):\n",
    "            if fitnes1[i] in jmax and jmax[n]>=fitnes1[i]:\n",
    "                populasi1[i]=populasiterpilih[n]\n",
    "                n+=1\n",
    "            if n==len(jmax):\n",
    "                break\n",
    "        count+=1\n",
    "    \n",
    "    #return populasi dan jarak\n",
    "    fitnes1=[]\n",
    "    for i in populasi1:\n",
    "        jarak2=0\n",
    "        for j in range (len(i)):\n",
    "            jarak3=jarak(i[j],i[(j+1)%len(i)])\n",
    "            jarak2+=jarak3\n",
    "        fitnes1.append(jarak2)\n",
    "    b=fitnes1.index(min(fitnes1))\n",
    "    return populasi1[b],fitnes1[b]"
   ]
  },
  {
   "cell_type": "markdown",
   "id": "f1b4bc52",
   "metadata": {},
   "source": [
    "# 1. Dataset"
   ]
  },
  {
   "cell_type": "code",
   "execution_count": 103,
   "id": "763a0ebb",
   "metadata": {},
   "outputs": [],
   "source": [
    "seed(10)\n",
    "dataset=[[randint(0,999),randint(0,999)] for i in range(30)]\n",
    "#titikasal=[500,500]"
   ]
  },
  {
   "cell_type": "markdown",
   "id": "ea93a291",
   "metadata": {},
   "source": [
    "#### Visualisasi dataset"
   ]
  },
  {
   "cell_type": "code",
   "execution_count": 104,
   "id": "63e6d1b2",
   "metadata": {},
   "outputs": [
    {
     "data": {
      "text/plain": [
       "<matplotlib.collections.PathCollection at 0x181d149b640>"
      ]
     },
     "execution_count": 104,
     "metadata": {},
     "output_type": "execute_result"
    },
    {
     "data": {
      "image/png": "[encoded data removed]",
      "text/plain": [
       "<Figure size 432x288 with 1 Axes>"
      ]
     },
     "metadata": {
      "needs_background": "light"
     },
     "output_type": "display_data"
    }
   ],
   "source": [
    "plt.scatter([i[0] for i in dataset],[i[1] for i in dataset])\n",
    "#plt.scatter(titikasal[0],titikasal[1],c='black',s=100)"
   ]
  },
  {
   "cell_type": "markdown",
   "id": "3ac593f5",
   "metadata": {},
   "source": [
    "# 2. Pengklusteran dengan K-Means"
   ]
  },
  {
   "cell_type": "code",
   "execution_count": 105,
   "id": "3d447d48",
   "metadata": {},
   "outputs": [],
   "source": [
    "cluster=KMeans(5,dataset)\n",
    "titikasal=cluster[1]"
   ]
  },
  {
   "cell_type": "markdown",
   "id": "ffefea90",
   "metadata": {},
   "source": [
    "#### Visualisasi dataset setelah dicluster dengan K-Means"
   ]
  },
  {
   "cell_type": "code",
   "execution_count": 106,
   "id": "fc2aa173",
   "metadata": {},
   "outputs": [
    {
     "data": {
      "text/plain": [
       "<matplotlib.collections.PathCollection at 0x181d147e7f0>"
      ]
     },
     "execution_count": 106,
     "metadata": {},
     "output_type": "execute_result"
    },
    {
     "data": {
      "image/png": "[encoded data removed]",
      "text/plain": [
       "<Figure size 432x288 with 1 Axes>"
      ]
     },
     "metadata": {
      "needs_background": "light"
     },
     "output_type": "display_data"
    }
   ],
   "source": [
    "for i in cluster[0]:\n",
    "    plt.scatter([j[0] for j in i],[j[1] for j in i])\n",
    "plt.scatter(titikasal[0],titikasal[1],c='black',s=150)"
   ]
  },
  {
   "cell_type": "markdown",
   "id": "4be5b7cc",
   "metadata": {},
   "source": [
    "# 3. Mencari rute terdekat dengan algoritma genetika"
   ]
  },
  {
   "cell_type": "code",
   "execution_count": 107,
   "id": "57775c8e",
   "metadata": {},
   "outputs": [],
   "source": [
    "rutecluster=[[],[]]\n",
    "for i in cluster[0]:\n",
    "    rute1=GA(i,titikasal)\n",
    "    rutecluster[0].append(rute1[0])\n",
    "    rutecluster[1].append(rute1[1])"
   ]
  },
  {
   "cell_type": "markdown",
   "id": "e3bad1d8",
   "metadata": {},
   "source": [
    "#### Visualisasi rute yang dihasilkan"
   ]
  },
  {
   "cell_type": "code",
   "execution_count": 108,
   "id": "e5dae0c8",
   "metadata": {},
   "outputs": [
    {
     "data": {
      "image/png": "[encoded data removed]",
      "text/plain": [
       "<Figure size 432x288 with 1 Axes>"
      ]
     },
     "metadata": {
      "needs_background": "light"
     },
     "output_type": "display_data"
    }
   ],
   "source": [
    "import matplotlib.pyplot as plt\n",
    "n=0\n",
    "for i in rutecluster[0]:\n",
    "    a=[j[0] for j in i]\n",
    "    b=[j[1] for j in i]\n",
    "    a.append(titikasal[0])\n",
    "    b.append(titikasal[1])\n",
    "    plt.plot(a,b,label='jarak : {:7.02f}'.format(rutecluster[1][n]))\n",
    "    n+=1\n",
    "\n",
    "for i in cluster[0]:\n",
    "    plt.scatter([j[0] for j in i],[j[1] for j in i])\n",
    "plt.scatter(titikasal[0],titikasal[1],c='black',s=150)\n",
    "plt.legend()\n",
    "plt.show()"
   ]
  },
  {
   "cell_type": "code",
   "execution_count": null,
   "id": "4f2e4bc9",
   "metadata": {},
   "outputs": [],
   "source": []
  },
  {
   "cell_type": "code",
   "execution_count": null,
   "id": "ddfccad9",
   "metadata": {},
   "outputs": [],
   "source": []
  }
 ],
 "metadata": {
  "kernelspec": {
   "display_name": "Python 3",
   "language": "python",
   "name": "python3"
  },
  "language_info": {
   "codemirror_mode": {
    "name": "ipython",
    "version": 3
   },
   "file_extension": ".py",
   "mimetype": "text/x-python",
   "name": "python",
   "nbconvert_exporter": "python",
   "pygments_lexer": "ipython3",
   "version": "3.8.8"
  }
 },
 "nbformat": 4,
 "nbformat_minor": 5
}
