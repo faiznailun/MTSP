{
 "cells": [
  {
   "cell_type": "code",
   "execution_count": 30,
   "id": "7eb99508",
   "metadata": {},
   "outputs": [],
   "source": [
    "from random import *\n",
    "import matplotlib.pyplot as plt\n",
    "seed(8)\n",
    "lokasi1=[[randint(0,50),randint(0,50)] for i in range(5)]\n",
    "asal1=[randint(0,50),randint(0,50)]"
   ]
  },
  {
   "cell_type": "code",
   "execution_count": 31,
   "id": "2b47f889",
   "metadata": {},
   "outputs": [
    {
     "data": {
      "text/plain": [
       "<matplotlib.collections.PathCollection at 0x2265af64c10>"
      ]
     },
     "execution_count": 31,
     "metadata": {},
     "output_type": "execute_result"
    },
    {
     "data": {
      "image/png": "[encoded data removed]",
      "text/plain": [
       "<Figure size 432x288 with 1 Axes>"
      ]
     },
     "metadata": {
      "needs_background": "light"
     },
     "output_type": "display_data"
    }
   ],
   "source": [
    "plt.scatter([i[0] for i in lokasi1],[i[1]for i in lokasi1],s=80)\n",
    "plt.scatter([asal1[0]],[asal1[1]],s=100,c='red')"
   ]
  },
  {
   "cell_type": "markdown",
   "id": "6ac81007",
   "metadata": {},
   "source": [
    "# 1. Populasi"
   ]
  },
  {
   "cell_type": "code",
   "execution_count": 32,
   "id": "82ffac98",
   "metadata": {},
   "outputs": [
    {
     "data": {
      "text/plain": [
       "[[[32, 13], [8, 15], [12, 45], [24, 8], [14, 23], [2, 5]],\n",
       " [[32, 13], [24, 8], [8, 15], [12, 45], [2, 5], [14, 23]],\n",
       " [[32, 13], [12, 45], [14, 23], [8, 15], [24, 8], [2, 5]],\n",
       " [[32, 13], [2, 5], [14, 23], [24, 8], [8, 15], [12, 45]],\n",
       " [[32, 13], [14, 23], [2, 5], [24, 8], [12, 45], [8, 15]],\n",
       " [[32, 13], [8, 15], [2, 5], [12, 45], [14, 23], [24, 8]],\n",
       " [[32, 13], [2, 5], [12, 45], [8, 15], [14, 23], [24, 8]],\n",
       " [[32, 13], [14, 23], [2, 5], [24, 8], [12, 45], [8, 15]],\n",
       " [[32, 13], [8, 15], [14, 23], [24, 8], [2, 5], [12, 45]],\n",
       " [[32, 13], [14, 23], [2, 5], [24, 8], [8, 15], [12, 45]]]"
      ]
     },
     "execution_count": 32,
     "metadata": {},
     "output_type": "execute_result"
    }
   ],
   "source": [
    "populasi1=[]\n",
    "banyak=10\n",
    "lokasi2=list(lokasi1)\n",
    "for i in range(banyak):\n",
    "    asal2=list([asal1])\n",
    "    shuffle(lokasi2)\n",
    "    asal2.extend(lokasi2)\n",
    "    populasi1.append(asal2)\n",
    "\n",
    "populasi1"
   ]
  },
  {
   "cell_type": "markdown",
   "id": "940056c1",
   "metadata": {},
   "source": [
    "# 2. Menghitung Jarak Tempuh"
   ]
  },
  {
   "cell_type": "code",
   "execution_count": 33,
   "id": "cdb9c974",
   "metadata": {},
   "outputs": [
    {
     "name": "stdout",
     "output_type": "stream",
     "text": [
      "[[32, 13], [8, 15], [12, 45], [24, 8], [14, 23], [2, 5]] = 163.95539515860506\n",
      "[[32, 13], [24, 8], [8, 15], [12, 45], [2, 5], [14, 23]] = 140.61934642040725\n",
      "[[32, 13], [12, 45], [14, 23], [8, 15], [24, 8], [2, 5]] = 140.54284846286848\n",
      "[[32, 13], [2, 5], [14, 23], [24, 8], [8, 15], [12, 45]] = 156.17507904826644\n",
      "[[32, 13], [14, 23], [2, 5], [24, 8], [12, 45], [8, 15]] = 157.6741529819136\n",
      "[[32, 13], [8, 15], [2, 5], [12, 45], [14, 23], [24, 8]] = 126.52860874720287\n",
      "[[32, 13], [2, 5], [12, 45], [8, 15], [14, 23], [24, 8]] = 140.00663505891632\n",
      "[[32, 13], [14, 23], [2, 5], [24, 8], [12, 45], [8, 15]] = 157.6741529819136\n",
      "[[32, 13], [8, 15], [14, 23], [24, 8], [2, 5], [12, 45]] = 153.28152963048205\n",
      "[[32, 13], [14, 23], [2, 5], [24, 8], [8, 15], [12, 45]] = 149.89383687157496\n"
     ]
    }
   ],
   "source": [
    "def jarak(A,B):\n",
    "    h=((A[0]-B[0])**2+(A[1]-B[1])**2)**(1/2)\n",
    "    return h\n",
    "jarak1=[]\n",
    "for i in populasi1:\n",
    "    jarak2=0\n",
    "    for j in range (len(i)):\n",
    "        jarak3=jarak(i[j],i[(j+1)%len(i)])\n",
    "        jarak2+=jarak3\n",
    "    jarak1.append(jarak2)\n",
    "\n",
    "for i in range(len(populasi1)):\n",
    "    print('{} = {}'.format(populasi1[i],jarak1[i]))"
   ]
  },
  {
   "cell_type": "markdown",
   "id": "d63e49ab",
   "metadata": {},
   "source": [
    "# 3. Seleksi"
   ]
  },
  {
   "cell_type": "code",
   "execution_count": 34,
   "id": "977cc519",
   "metadata": {},
   "outputs": [],
   "source": [
    "populasiterpilih=[]\n",
    "peluang=0.4 # (40%)"
   ]
  },
  {
   "cell_type": "code",
   "execution_count": 35,
   "id": "c97961cc",
   "metadata": {},
   "outputs": [],
   "source": [
    "# MENCARI JARAK TERDEKAT\n",
    "jarak2=list(jarak1)\n",
    "jarak2.sort()\n",
    "jmin1=[jarak2[i] for i in range(int(peluang*len(jarak1)))]"
   ]
  },
  {
   "cell_type": "code",
   "execution_count": 36,
   "id": "4ac09ac2",
   "metadata": {},
   "outputs": [
    {
     "name": "stdout",
     "output_type": "stream",
     "text": [
      "[[32, 13], [24, 8], [8, 15], [12, 45], [2, 5], [14, 23]] = 126.52860874720287\n",
      "[[32, 13], [12, 45], [14, 23], [8, 15], [24, 8], [2, 5]] = 140.00663505891632\n",
      "[[32, 13], [8, 15], [2, 5], [12, 45], [14, 23], [24, 8]] = 140.54284846286848\n",
      "[[32, 13], [2, 5], [12, 45], [8, 15], [14, 23], [24, 8]] = 140.61934642040725\n"
     ]
    }
   ],
   "source": [
    "for i in range(len(jarak1)):\n",
    "    if jarak1[i] in jmin1:\n",
    "        populasiterpilih.append(populasi1[i])\n",
    "del populasiterpilih[int(peluang*len(jarak1)):]\n",
    "for i in range(len(jmin1)):\n",
    "    print('{} = {}'.format(populasiterpilih[i],jmin1[i]))"
   ]
  },
  {
   "cell_type": "markdown",
   "id": "e97ae47f",
   "metadata": {},
   "source": [
    "# 4. Crossover"
   ]
  },
  {
   "cell_type": "code",
   "execution_count": 37,
   "id": "ad8e9e04",
   "metadata": {},
   "outputs": [],
   "source": [
    "peluang=0.4"
   ]
  },
  {
   "cell_type": "code",
   "execution_count": 38,
   "id": "927fd950",
   "metadata": {},
   "outputs": [
    {
     "data": {
      "text/plain": [
       "[[[32, 13], [8, 15], [12, 45], [24, 8], [14, 23], [2, 5]],\n",
       " [[32, 13], [24, 8], [8, 15], [12, 45], [2, 5], [14, 23]],\n",
       " [[32, 13], [12, 45], [14, 23], [8, 15], [24, 8], [2, 5]],\n",
       " [[32, 13], [2, 5], [14, 23], [24, 8], [8, 15], [12, 45]],\n",
       " [[32, 13], [14, 23], [2, 5], [24, 8], [12, 45], [8, 15]],\n",
       " [[32, 13], [8, 15], [2, 5], [12, 45], [14, 23], [24, 8]],\n",
       " [[32, 13], [2, 5], [12, 45], [8, 15], [14, 23], [24, 8]],\n",
       " [[32, 13], [14, 23], [2, 5], [24, 8], [12, 45], [8, 15]],\n",
       " [[32, 13], [8, 15], [14, 23], [24, 8], [2, 5], [12, 45]],\n",
       " [[32, 13], [14, 23], [2, 5], [24, 8], [8, 15], [12, 45]]]"
      ]
     },
     "execution_count": 38,
     "metadata": {},
     "output_type": "execute_result"
    }
   ],
   "source": [
    "cros1=list(populasi1)\n",
    "cros1"
   ]
  },
  {
   "cell_type": "code",
   "execution_count": 39,
   "id": "b6bccc1e",
   "metadata": {},
   "outputs": [
    {
     "name": "stdout",
     "output_type": "stream",
     "text": [
      "[[32, 13], [8, 15], [12, 45], [24, 8], [14, 23], [2, 5]]\n",
      "[[32, 13], [24, 8], [8, 15], [12, 45], [2, 5], [14, 23]]\n"
     ]
    }
   ],
   "source": [
    "print(cros1[0])\n",
    "print(cros1[1])"
   ]
  },
  {
   "cell_type": "code",
   "execution_count": 41,
   "id": "bddee448",
   "metadata": {},
   "outputs": [],
   "source": [
    "dari=3\n",
    "if cros1[1][dari] not in cros1[0][0:dari] and cros1[0][dari] not in cros1[1][0:dari]:\n",
    "    cros1[0][dari],cros1[1][dari]=cros1[1][dari],cros1[0][dari]"
   ]
  },
  {
   "cell_type": "code",
   "execution_count": 42,
   "id": "0df5cfef",
   "metadata": {},
   "outputs": [
    {
     "name": "stdout",
     "output_type": "stream",
     "text": [
      "[[32, 13], [8, 15], [12, 45], [24, 8], [14, 23], [2, 5]]\n",
      "[[32, 13], [24, 8], [8, 15], [12, 45], [2, 5], [14, 23]]\n"
     ]
    }
   ],
   "source": [
    "print(cros1[0])\n",
    "print(cros1[1])"
   ]
  },
  {
   "cell_type": "code",
   "execution_count": null,
   "id": "f2242bec",
   "metadata": {},
   "outputs": [],
   "source": []
  }
 ],
 "metadata": {
  "kernelspec": {
   "display_name": "Python 3",
   "language": "python",
   "name": "python3"
  },
  "language_info": {
   "codemirror_mode": {
    "name": "ipython",
    "version": 3
   },
   "file_extension": ".py",
   "mimetype": "text/x-python",
   "name": "python",
   "nbconvert_exporter": "python",
   "pygments_lexer": "ipython3",
   "version": "3.8.8"
  }
 },
 "nbformat": 4,
 "nbformat_minor": 5
}
