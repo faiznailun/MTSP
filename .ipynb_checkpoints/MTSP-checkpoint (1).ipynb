{
 "cells": [
  {
   "cell_type": "markdown",
   "id": "449cb16c",
   "metadata": {},
   "source": [
    "# 0. Definisi Fungsi"
   ]
  },
  {
   "cell_type": "markdown",
   "id": "edaddc5f",
   "metadata": {},
   "source": [
    "#### Dataset"
   ]
  },
  {
   "cell_type": "code",
   "execution_count": 66,
   "id": "640a733d",
   "metadata": {},
   "outputs": [],
   "source": [
    "from random import randint, seed\n",
    "import matplotlib.pyplot as plt"
   ]
  },
  {
   "cell_type": "markdown",
   "id": "2d22df93",
   "metadata": {},
   "source": [
    "#### K-Means"
   ]
  },
  {
   "cell_type": "code",
   "execution_count": 67,
   "id": "e3273801",
   "metadata": {},
   "outputs": [],
   "source": [
    "def KMeans(n,dataset):\n",
    "    from random import randint, seed\n",
    "    #seed(26)\n",
    "    banyak=n\n",
    "    centroid=list([randint(0,999),randint(0,999)] for i in range(banyak))\n",
    "    berubah=True\n",
    "    c1=list([])\n",
    "    c2=list([1])\n",
    "    while berubah:\n",
    "        cluster=list([])\n",
    "        for i in range (len(centroid)):\n",
    "            clustertemp=list([])\n",
    "            for j in range (len(dataset)):\n",
    "                jarak=list([])\n",
    "                for k in range (len(centroid)):\n",
    "                    h=((dataset[j][0]-centroid[k][0])**2+(dataset[j][1]-centroid[k][1])**2)**(1/2)\n",
    "                    jarak.append(h)\n",
    "                for l in range (len(jarak)):\n",
    "                    if min(jarak)==jarak[l] and l==i:\n",
    "                        clustertemp.append(dataset[j])\n",
    "            cluster.append(clustertemp)\n",
    "        for i in range (len(cluster)):\n",
    "            for j in range (2):\n",
    "                jumlah=0\n",
    "                for k in range (len(cluster[i])):\n",
    "                    jumlah+=cluster[i][k][j]\n",
    "                if len(cluster[i])!=0:\n",
    "                    rata=jumlah/len(cluster[i])\n",
    "                    centroid[i][j]=rata\n",
    "                else:\n",
    "                    centroid[i][j]=randint(0,999)\n",
    "        c2=c1\n",
    "        c1=centroid\n",
    "        if c2==c1:\n",
    "            berubah=False\n",
    "    return cluster"
   ]
  },
  {
   "cell_type": "markdown",
   "id": "62f07430",
   "metadata": {},
   "source": [
    "#### Algoritma Genetika (GA)"
   ]
  },
  {
   "cell_type": "code",
   "execution_count": 68,
   "id": "c4564c71",
   "metadata": {},
   "outputs": [],
   "source": [
    "def jarak(A,B):\n",
    "    h=((A[0]-B[0])**2+(A[1]-B[1])**2)**(1/2)\n",
    "    return h\n",
    "\n",
    "def crosover1(n,data1,data2):\n",
    "    data1temp=list(data1[:n])\n",
    "    data2temp=list(data2[:n])\n",
    "    for i in range(len(data1)):\n",
    "        if data2[(i+n)%len(data1)] not in data1[:n]:\n",
    "            data1temp.append(data2[(i+n)%len(data2)])\n",
    "        if data1[(i+n)%len(data1)] not in data2[:n]:\n",
    "            data2temp.append(data1[(i+n)%len(data1)])\n",
    "    return list([data1temp, data2temp])\n",
    "\n",
    "def GA(dataset,asal):\n",
    "    from random import shuffle, randint, random\n",
    "    \n",
    "    # Populasi(dataset,asal)\n",
    "    banyak=48\n",
    "    populasi1=list([])\n",
    "    lokasi2=list(dataset)\n",
    "    for i in range(banyak):\n",
    "        asal2=list([asal])\n",
    "        shuffle(lokasi2)\n",
    "        asal2.extend(lokasi2)\n",
    "        populasi1.append(asal2)\n",
    "    ## return populasi1\n",
    "    \n",
    "    #beda=True\n",
    "    count=0\n",
    "    while count<1000:\n",
    "        # jarak dari populasi asal (populasi)\n",
    "        fitnes1=list([])\n",
    "        for i in populasi1:\n",
    "            jarak2=0\n",
    "            for j in range (len(i)):\n",
    "                jarak3=jarak(i[j],i[(j+1)%len(i)])\n",
    "                jarak2+=jarak3\n",
    "            fitnes1.append(jarak2)\n",
    "        ## dihasilkan jarak1\n",
    "        \n",
    "        populasiterpilih=list([])\n",
    "        # Seleksi(peluang,datajarak,populasi):\n",
    "        for i in range(0,len(fitnes1),2):\n",
    "            if fitnes1[i]<fitnes1[(i+1)]:\n",
    "                populasiterpilih.append(populasi1[i])\n",
    "            elif fitnes1[i]>=fitnes1[i+1]:\n",
    "                populasiterpilih.append(populasi1[i+1])\n",
    "        ## return populasiterpilih\n",
    "        \n",
    "        r=random()\n",
    "        # Crosover(data,peluang):\n",
    "        if r<0.95:\n",
    "            n=randint(0,len(populasiterpilih)-1)\n",
    "            for i in range (0,len(populasiterpilih),2):\n",
    "                h=crosover1(n,populasiterpilih[i],populasiterpilih[(i+1)%len(populasiterpilih)])\n",
    "                populasiterpilih[i],populasiterpilih[(i+1)%len(populasiterpilih)]=h[0],h[1]\n",
    "        ## dihasilkan populasi terpilih\n",
    "        \n",
    "        # Mutasi(data,peluang):\n",
    "        if r<0.01:\n",
    "            n=[randint(1,len(populasiterpilih[0])-1),randint(1,len(populasiterpilih[0])-1)]\n",
    "            for i in range (len(populasiterpilih)):\n",
    "                populasiterpilih[i][n[0]],populasiterpilih[i][n[1]]=populasiterpilih[i][n[1]],populasiterpilih[i][n[0]]\n",
    "        ## dihasilkan populasi terpilih\n",
    "        if r>=0.95:\n",
    "            populasiterpilih=list(populasi1)\n",
    "        \n",
    "        # penggantian populasi1\n",
    "        jarak2=list(fitnes1)\n",
    "        jarak2.sort()\n",
    "        jarak2.reverse()\n",
    "        jmax=list(jarak2[:int(len(jarak2)/2)])\n",
    "        n=0\n",
    "        for i in range(len(fitnes1)):\n",
    "            if fitnes1[i] in jmax and jmax[n]>=fitnes1[i]:\n",
    "                populasi1[i]=populasiterpilih[n]\n",
    "                n+=1\n",
    "            if n==len(jmax):\n",
    "                break\n",
    "        \n",
    "        #fitnes1.sort()\n",
    "        #if fitnes1[0]==fitnes1[len(fitnes1)-1]:\n",
    "            #beda=False\n",
    "        count+=1\n",
    "    \n",
    "    #return\n",
    "    fitnes1=list([])\n",
    "    for i in populasi1:\n",
    "        jarak2=0\n",
    "        for j in range (len(i)):\n",
    "            jarak3=jarak(i[j],i[(j+1)%len(i)])\n",
    "            jarak2+=jarak3\n",
    "        fitnes1.append(jarak2)\n",
    "    a=min(fitnes1)\n",
    "    b=0\n",
    "    for i in range(len(fitnes1)):\n",
    "        if fitnes1[i]==a:\n",
    "            b=i\n",
    "    return populasi1[b],fitnes1[i]\n",
    "    #return count"
   ]
  },
  {
   "cell_type": "markdown",
   "id": "f1b4bc52",
   "metadata": {},
   "source": [
    "# 1. Dataset"
   ]
  },
  {
   "cell_type": "code",
   "execution_count": 69,
   "id": "763a0ebb",
   "metadata": {},
   "outputs": [],
   "source": [
    "seed(5)\n",
    "dataset=[[randint(0,999),randint(0,999)] for i in range(30)]\n",
    "titikasal=[500,500]"
   ]
  },
  {
   "cell_type": "markdown",
   "id": "ea93a291",
   "metadata": {},
   "source": [
    "#### Visualisasi dataset"
   ]
  },
  {
   "cell_type": "code",
   "execution_count": 70,
   "id": "63e6d1b2",
   "metadata": {},
   "outputs": [
    {
     "data": {
      "text/plain": [
       "<matplotlib.collections.PathCollection at 0x2868183a250>"
      ]
     },
     "execution_count": 70,
     "metadata": {},
     "output_type": "execute_result"
    },
    {
     "data": {
      "image/png": "[encoded data removed]",
      "text/plain": [
       "<Figure size 432x288 with 1 Axes>"
      ]
     },
     "metadata": {
      "needs_background": "light"
     },
     "output_type": "display_data"
    }
   ],
   "source": [
    "plt.scatter([i[0] for i in dataset],[i[1] for i in dataset])\n",
    "plt.scatter(titikasal[0],titikasal[1],c='black',s=100)"
   ]
  },
  {
   "cell_type": "markdown",
   "id": "3ac593f5",
   "metadata": {},
   "source": [
    "# 2. Pengklusteran dengan K-Means"
   ]
  },
  {
   "cell_type": "code",
   "execution_count": 71,
   "id": "3d447d48",
   "metadata": {},
   "outputs": [],
   "source": [
    "cluster=KMeans(5,dataset)"
   ]
  },
  {
   "cell_type": "markdown",
   "id": "ffefea90",
   "metadata": {},
   "source": [
    "#### Visualisasi dataset setelah dicluster dengan K-Means"
   ]
  },
  {
   "cell_type": "code",
   "execution_count": 72,
   "id": "fc2aa173",
   "metadata": {},
   "outputs": [
    {
     "data": {
      "text/plain": [
       "<matplotlib.collections.PathCollection at 0x28681a21f70>"
      ]
     },
     "execution_count": 72,
     "metadata": {},
     "output_type": "execute_result"
    },
    {
     "data": {
      "image/png": "[encoded data removed]",
      "text/plain": [
       "<Figure size 432x288 with 1 Axes>"
      ]
     },
     "metadata": {
      "needs_background": "light"
     },
     "output_type": "display_data"
    }
   ],
   "source": [
    "for i in cluster:\n",
    "    plt.scatter([j[0] for j in i],[j[1] for j in i])\n",
    "plt.scatter(titikasal[0],titikasal[1],c='black',s=150)"
   ]
  },
  {
   "cell_type": "markdown",
   "id": "4be5b7cc",
   "metadata": {},
   "source": [
    "# 3. Mencari rute terdekat dengan algoritma genetika"
   ]
  },
  {
   "cell_type": "code",
   "execution_count": 73,
   "id": "57775c8e",
   "metadata": {},
   "outputs": [],
   "source": [
    "rutecluster=[[],[]]\n",
    "for i in cluster:\n",
    "    rute1=GA(i,titikasal)\n",
    "    rutecluster[0].append(rute1[0])\n",
    "    rutecluster[1].append(rute1[1])"
   ]
  },
  {
   "cell_type": "markdown",
   "id": "e3bad1d8",
   "metadata": {},
   "source": [
    "#### Visualisasi rute yang dihasilkan"
   ]
  },
  {
   "cell_type": "code",
   "execution_count": 74,
   "id": "e5dae0c8",
   "metadata": {},
   "outputs": [
    {
     "data": {
      "image/png": "[encoded data removed]",
      "text/plain": [
       "<Figure size 432x288 with 1 Axes>"
      ]
     },
     "metadata": {
      "needs_background": "light"
     },
     "output_type": "display_data"
    }
   ],
   "source": [
    "import matplotlib.pyplot as plt\n",
    "n=0\n",
    "for i in rutecluster[0]:\n",
    "    a=[j[0] for j in i]\n",
    "    b=[j[1] for j in i]\n",
    "    a.append(titikasal[0])\n",
    "    b.append(titikasal[1])\n",
    "    plt.plot(a,b,label='jarak : {:7.02f}'.format(rutecluster[1][n]))\n",
    "    n+=1\n",
    "\n",
    "for i in cluster:\n",
    "    plt.scatter([j[0] for j in i],[j[1] for j in i])\n",
    "plt.scatter(titikasal[0],titikasal[1],c='black',s=150)\n",
    "plt.legend()\n",
    "plt.show()"
   ]
  },
  {
   "cell_type": "code",
   "execution_count": null,
   "id": "4f2e4bc9",
   "metadata": {},
   "outputs": [],
   "source": []
  },
  {
   "cell_type": "code",
   "execution_count": null,
   "id": "ddfccad9",
   "metadata": {},
   "outputs": [],
   "source": []
  }
 ],
 "metadata": {
  "kernelspec": {
   "display_name": "Python 3",
   "language": "python",
   "name": "python3"
  },
  "language_info": {
   "codemirror_mode": {
    "name": "ipython",
    "version": 3
   },
   "file_extension": ".py",
   "mimetype": "text/x-python",
   "name": "python",
   "nbconvert_exporter": "python",
   "pygments_lexer": "ipython3",
   "version": "3.8.8"
  }
 },
 "nbformat": 4,
 "nbformat_minor": 5
}
