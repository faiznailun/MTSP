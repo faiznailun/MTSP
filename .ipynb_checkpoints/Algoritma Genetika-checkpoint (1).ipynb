{
 "cells": [
  {
   "cell_type": "code",
   "execution_count": 1,
   "id": "7eb99508",
   "metadata": {},
   "outputs": [],
   "source": [
    "from random import randint, seed\n",
    "import matplotlib.pyplot as plt\n",
    "seed(11)\n",
    "lokasi1=[[randint(0,50),randint(0,50)] for i in range(5)]\n",
    "asal1=[randint(0,50),randint(0,50)]"
   ]
  },
  {
   "cell_type": "code",
   "execution_count": 40,
   "id": "2b47f889",
   "metadata": {},
   "outputs": [
    {
     "data": {
      "image/png": "[encoded data removed]",
      "text/plain": [
       "<Figure size 432x288 with 1 Axes>"
      ]
     },
     "metadata": {
      "needs_background": "light"
     },
     "output_type": "display_data"
    }
   ],
   "source": [
    "plt.scatter([i[0] for i in lokasi1],[i[1]for i in lokasi1],s=80)\n",
    "plt.scatter([asal1[0]],[asal1[1]],s=100,c='red')\n",
    "plt.show()"
   ]
  },
  {
   "cell_type": "markdown",
   "id": "6ac81007",
   "metadata": {},
   "source": [
    "# 1. Populasi"
   ]
  },
  {
   "cell_type": "code",
   "execution_count": 41,
   "id": "82ffac98",
   "metadata": {},
   "outputs": [
    {
     "data": {
      "text/plain": [
       "[[[30, 40], [28, 32], [37, 12], [28, 35], [49, 29], [11, 32]],\n",
       " [[30, 40], [49, 29], [11, 32], [28, 32], [37, 12], [28, 35]],\n",
       " [[30, 40], [28, 32], [49, 29], [11, 32], [37, 12], [28, 35]],\n",
       " [[30, 40], [49, 29], [37, 12], [11, 32], [28, 32], [28, 35]],\n",
       " [[30, 40], [37, 12], [11, 32], [28, 32], [28, 35], [49, 29]],\n",
       " [[30, 40], [28, 35], [28, 32], [11, 32], [37, 12], [49, 29]],\n",
       " [[30, 40], [49, 29], [28, 35], [11, 32], [28, 32], [37, 12]],\n",
       " [[30, 40], [28, 35], [37, 12], [49, 29], [28, 32], [11, 32]],\n",
       " [[30, 40], [11, 32], [28, 35], [37, 12], [49, 29], [28, 32]],\n",
       " [[30, 40], [49, 29], [28, 35], [11, 32], [28, 32], [37, 12]]]"
      ]
     },
     "execution_count": 41,
     "metadata": {},
     "output_type": "execute_result"
    }
   ],
   "source": [
    "populasi1=[]\n",
    "banyak=10\n",
    "lokasi2=list(lokasi1)\n",
    "for i in range(banyak):\n",
    "    asal2=list([asal1])\n",
    "    shuffle(lokasi2)\n",
    "    asal2.extend(lokasi2)\n",
    "    populasi1.append(asal2)\n",
    "\n",
    "populasi1"
   ]
  },
  {
   "cell_type": "code",
   "execution_count": 4,
   "id": "7e7e233e",
   "metadata": {},
   "outputs": [],
   "source": [
    "def populasi(data,asal):\n",
    "    banyak=10\n",
    "    populasi1=[]\n",
    "    lokasi2=list(data)\n",
    "    for i in range(banyak):\n",
    "        asal2=list([asal])\n",
    "        shuffle(lokasi2)\n",
    "        asal2.extend(lokasi2)\n",
    "        populasi1.append(asal2)\n",
    "    return populasi1"
   ]
  },
  {
   "cell_type": "code",
   "execution_count": 5,
   "id": "7e4e6264",
   "metadata": {},
   "outputs": [
    {
     "data": {
      "text/plain": [
       "[[[30, 40], [49, 29], [37, 12], [28, 32], [11, 32], [28, 35]],\n",
       " [[30, 40], [28, 35], [28, 32], [37, 12], [49, 29], [11, 32]],\n",
       " [[30, 40], [28, 32], [49, 29], [37, 12], [11, 32], [28, 35]],\n",
       " [[30, 40], [37, 12], [11, 32], [28, 32], [28, 35], [49, 29]],\n",
       " [[30, 40], [28, 32], [37, 12], [11, 32], [49, 29], [28, 35]],\n",
       " [[30, 40], [28, 32], [49, 29], [11, 32], [37, 12], [28, 35]],\n",
       " [[30, 40], [37, 12], [28, 35], [49, 29], [28, 32], [11, 32]],\n",
       " [[30, 40], [28, 35], [49, 29], [11, 32], [28, 32], [37, 12]],\n",
       " [[30, 40], [37, 12], [11, 32], [28, 32], [28, 35], [49, 29]],\n",
       " [[30, 40], [11, 32], [28, 32], [37, 12], [49, 29], [28, 35]]]"
      ]
     },
     "execution_count": 5,
     "metadata": {},
     "output_type": "execute_result"
    }
   ],
   "source": [
    "populasi1=populasi(lokasi1,asal1)\n",
    "populasi1"
   ]
  },
  {
   "cell_type": "markdown",
   "id": "940056c1",
   "metadata": {},
   "source": [
    "# 2. Menghitung Fitnes"
   ]
  },
  {
   "cell_type": "code",
   "execution_count": 6,
   "id": "cdb9c974",
   "metadata": {},
   "outputs": [
    {
     "name": "stdout",
     "output_type": "stream",
     "text": [
      "[[30, 40], [49, 29], [37, 12], [28, 32], [11, 32], [28, 35]] = 104.34270395501284\n",
      "[[30, 40], [28, 35], [28, 32], [37, 12], [49, 29], [11, 32]] = 109.85929428646077\n",
      "[[30, 40], [28, 32], [49, 29], [37, 12], [11, 32], [28, 35]] = 105.71834697599658\n",
      "[[30, 40], [37, 12], [11, 32], [28, 32], [28, 35], [49, 29]] = 125.45900638097878\n",
      "[[30, 40], [28, 32], [37, 12], [11, 32], [49, 29], [28, 35]] = 128.32409396447798\n",
      "[[30, 40], [28, 32], [49, 29], [11, 32], [37, 12], [28, 35]] = 130.46343360322848\n",
      "[[30, 40], [37, 12], [28, 35], [49, 29], [28, 32], [11, 32]] = 134.22897868130684\n",
      "[[30, 40], [28, 35], [49, 29], [11, 32], [28, 32], [37, 12]] = 133.13718315885285\n",
      "[[30, 40], [37, 12], [11, 32], [28, 32], [28, 35], [49, 29]] = 125.45900638097878\n",
      "[[30, 40], [11, 32], [28, 32], [37, 12], [49, 29], [28, 35]] = 107.58138684921049\n"
     ]
    }
   ],
   "source": [
    "def jarak(A,B):\n",
    "    h=((A[0]-B[0])**2+(A[1]-B[1])**2)**(1/2)\n",
    "    return h\n",
    "\n",
    "jarak1=[]\n",
    "for i in populasi1:\n",
    "    jarak2=0\n",
    "    for j in range (len(i)):\n",
    "        jarak3=jarak(i[j],i[(j+1)%len(i)])\n",
    "        jarak2+=jarak3\n",
    "    jarak1.append(jarak2)\n",
    "\n",
    "for i in range(len(populasi1)):\n",
    "    print('{} = {}'.format(populasi1[i],jarak1[i]))"
   ]
  },
  {
   "cell_type": "code",
   "execution_count": 7,
   "id": "e6b134c1",
   "metadata": {},
   "outputs": [],
   "source": [
    "def totaljarak(data):\n",
    "    jarak1=[]\n",
    "    for i in data:\n",
    "        jarak2=0\n",
    "        for j in range (len(i)):\n",
    "            jarak3=jarak(i[j],i[(j+1)%len(i)])\n",
    "            jarak2+=jarak3\n",
    "        jarak1.append(jarak2)\n",
    "    return jarak1"
   ]
  },
  {
   "cell_type": "code",
   "execution_count": 8,
   "id": "87a65564",
   "metadata": {},
   "outputs": [
    {
     "data": {
      "text/plain": [
       "[104.34270395501284,\n",
       " 109.85929428646077,\n",
       " 105.71834697599658,\n",
       " 125.45900638097878,\n",
       " 128.32409396447798,\n",
       " 130.46343360322848,\n",
       " 134.22897868130684,\n",
       " 133.13718315885285,\n",
       " 125.45900638097878,\n",
       " 107.58138684921049]"
      ]
     },
     "execution_count": 8,
     "metadata": {},
     "output_type": "execute_result"
    }
   ],
   "source": [
    "jarak1=totaljarak(populasi1)\n",
    "jarak1"
   ]
  },
  {
   "cell_type": "markdown",
   "id": "d63e49ab",
   "metadata": {},
   "source": [
    "# 3. Seleksi"
   ]
  },
  {
   "cell_type": "code",
   "execution_count": 9,
   "id": "977cc519",
   "metadata": {},
   "outputs": [],
   "source": [
    "populasiterpilih=[]\n",
    "peluang=0.4 # (40%)"
   ]
  },
  {
   "cell_type": "code",
   "execution_count": 10,
   "id": "c97961cc",
   "metadata": {},
   "outputs": [],
   "source": [
    "# MENCARI JARAK TERDEKAT\n",
    "jarak2=list(jarak1)\n",
    "jarak2.sort()\n",
    "jmin1=[jarak2[i] for i in range(int(peluang*len(jarak1)))]"
   ]
  },
  {
   "cell_type": "code",
   "execution_count": 11,
   "id": "4ac09ac2",
   "metadata": {},
   "outputs": [
    {
     "name": "stdout",
     "output_type": "stream",
     "text": [
      "[[30, 40], [49, 29], [37, 12], [28, 32], [11, 32], [28, 35]] = 104.34270395501284\n",
      "[[30, 40], [28, 35], [28, 32], [37, 12], [49, 29], [11, 32]] = 105.71834697599658\n",
      "[[30, 40], [28, 32], [49, 29], [37, 12], [11, 32], [28, 35]] = 107.58138684921049\n",
      "[[30, 40], [11, 32], [28, 32], [37, 12], [49, 29], [28, 35]] = 109.85929428646077\n"
     ]
    }
   ],
   "source": [
    "for i in range(len(jarak1)):\n",
    "    if jarak1[i] in jmin1:\n",
    "        populasiterpilih.append(populasi1[i])\n",
    "del populasiterpilih[int(peluang*len(jarak1)):]\n",
    "for i in range(len(jmin1)):\n",
    "    print('{} = {}'.format(populasiterpilih[i],jmin1[i]))"
   ]
  },
  {
   "cell_type": "code",
   "execution_count": 12,
   "id": "514e513a",
   "metadata": {},
   "outputs": [],
   "source": [
    "def seleksi(peluang,datajarak,populasi):\n",
    "    jarak2=list(datajarak)\n",
    "    jarak2.sort()\n",
    "    jmin1=[jarak2[i] for i in range(int(peluang*len(datajarak)))]\n",
    "    n=0\n",
    "    for i in range(len(datajarak)):\n",
    "        if datajarak[i] in jmin1:\n",
    "            populasiterpilih.append(populasi[i])\n",
    "            n+=1\n",
    "        if n==peluang*10:\n",
    "            break"
   ]
  },
  {
   "cell_type": "markdown",
   "id": "e97ae47f",
   "metadata": {},
   "source": [
    "# 4. Crossover"
   ]
  },
  {
   "cell_type": "code",
   "execution_count": 13,
   "id": "ad8e9e04",
   "metadata": {},
   "outputs": [],
   "source": [
    "peluang=0.4\n",
    "n=3"
   ]
  },
  {
   "cell_type": "code",
   "execution_count": 14,
   "id": "927fd950",
   "metadata": {},
   "outputs": [
    {
     "data": {
      "text/plain": [
       "[[[30, 40], [49, 29], [37, 12], [28, 32], [11, 32], [28, 35]],\n",
       " [[30, 40], [28, 35], [28, 32], [37, 12], [49, 29], [11, 32]],\n",
       " [[30, 40], [28, 32], [49, 29], [37, 12], [11, 32], [28, 35]],\n",
       " [[30, 40], [37, 12], [11, 32], [28, 32], [28, 35], [49, 29]],\n",
       " [[30, 40], [28, 32], [37, 12], [11, 32], [49, 29], [28, 35]],\n",
       " [[30, 40], [28, 32], [49, 29], [11, 32], [37, 12], [28, 35]],\n",
       " [[30, 40], [37, 12], [28, 35], [49, 29], [28, 32], [11, 32]],\n",
       " [[30, 40], [28, 35], [49, 29], [11, 32], [28, 32], [37, 12]],\n",
       " [[30, 40], [37, 12], [11, 32], [28, 32], [28, 35], [49, 29]],\n",
       " [[30, 40], [11, 32], [28, 32], [37, 12], [49, 29], [28, 35]]]"
      ]
     },
     "execution_count": 14,
     "metadata": {},
     "output_type": "execute_result"
    }
   ],
   "source": [
    "cros1=list(populasi1)\n",
    "cros1"
   ]
  },
  {
   "cell_type": "code",
   "execution_count": 15,
   "id": "f2242bec",
   "metadata": {},
   "outputs": [],
   "source": [
    "data1=list(cros1[0])\n",
    "data2=list(cros1[1])"
   ]
  },
  {
   "cell_type": "code",
   "execution_count": 16,
   "id": "fce1ebef",
   "metadata": {},
   "outputs": [
    {
     "name": "stdout",
     "output_type": "stream",
     "text": [
      "[[30, 40], [49, 29], [37, 12], [28, 32], [11, 32], [28, 35]]\n",
      "[[30, 40], [28, 35], [28, 32], [37, 12], [49, 29], [11, 32]]\n"
     ]
    }
   ],
   "source": [
    "print('{}\\n{}'.format(data1,data2))"
   ]
  },
  {
   "cell_type": "code",
   "execution_count": 17,
   "id": "43abbad8",
   "metadata": {},
   "outputs": [],
   "source": [
    "data1temp=list(data1[:n])\n",
    "data2temp=list(data2[:n])\n",
    "for i in range(len(data1)):\n",
    "    if data2[(i+n)%len(data1)] not in data1[:n]:\n",
    "        data1temp.append(data2[(i+n)%len(data1)])\n",
    "    if data1[(i+n)%len(data1)] not in data2[:n]:\n",
    "        data2temp.append(data1[(i+n)%len(data1)])"
   ]
  },
  {
   "cell_type": "code",
   "execution_count": 18,
   "id": "6c846eb1",
   "metadata": {},
   "outputs": [
    {
     "name": "stdout",
     "output_type": "stream",
     "text": [
      "[[30, 40], [49, 29], [37, 12], [11, 32], [28, 35], [28, 32]]\n",
      "[[30, 40], [28, 35], [28, 32], [11, 32], [49, 29], [37, 12]]\n"
     ]
    }
   ],
   "source": [
    "print('{}\\n{}'.format(data1temp,data2temp))"
   ]
  },
  {
   "cell_type": "code",
   "execution_count": 19,
   "id": "5e9d4c96",
   "metadata": {},
   "outputs": [],
   "source": [
    "# FUNGSI CROSSOVER (2 data)\n",
    "def crosover1(n,data1,data2):\n",
    "    data1temp=list(data1[:n])\n",
    "    data2temp=list(data2[:n])\n",
    "    for i in range(len(data1)):\n",
    "        if data2[(i+n)%len(data1)] not in data1[:n]:\n",
    "            data1temp.append(data2[(i+n)%len(data1)])\n",
    "        if data1[(i+n)%len(data1)] not in data2[:n]:\n",
    "            data2temp.append(data1[(i+n)%len(data1)])\n",
    "    return list([data1temp, data2temp])"
   ]
  },
  {
   "cell_type": "code",
   "execution_count": 20,
   "id": "2d5f8e2b",
   "metadata": {},
   "outputs": [
    {
     "data": {
      "text/plain": [
       "[[[30, 40], [49, 29], [37, 12], [11, 32], [28, 35], [28, 32]],\n",
       " [[30, 40], [28, 35], [28, 32], [11, 32], [49, 29], [37, 12]]]"
      ]
     },
     "execution_count": 20,
     "metadata": {},
     "output_type": "execute_result"
    }
   ],
   "source": [
    "crosover1(n,data1,data2)"
   ]
  },
  {
   "cell_type": "code",
   "execution_count": 21,
   "id": "d85f50d6",
   "metadata": {},
   "outputs": [],
   "source": [
    "for i in range (0,len(cros1),2):\n",
    "    h=crosover1(n,cros1[i],cros1[(i+1)%len(cros1)])\n",
    "    cros1[i],cros1[(i+1)%len(cros1)]=h[0],h[1]"
   ]
  },
  {
   "cell_type": "code",
   "execution_count": 22,
   "id": "df5e0934",
   "metadata": {},
   "outputs": [
    {
     "data": {
      "text/plain": [
       "[[[30, 40], [49, 29], [37, 12], [11, 32], [28, 35], [28, 32]],\n",
       " [[30, 40], [28, 35], [28, 32], [11, 32], [49, 29], [37, 12]],\n",
       " [[30, 40], [28, 32], [49, 29], [28, 35], [37, 12], [11, 32]],\n",
       " [[30, 40], [37, 12], [11, 32], [28, 35], [28, 32], [49, 29]],\n",
       " [[30, 40], [28, 32], [37, 12], [11, 32], [28, 35], [49, 29]],\n",
       " [[30, 40], [28, 32], [49, 29], [11, 32], [28, 35], [37, 12]],\n",
       " [[30, 40], [37, 12], [28, 35], [11, 32], [28, 32], [49, 29]],\n",
       " [[30, 40], [28, 35], [49, 29], [28, 32], [11, 32], [37, 12]],\n",
       " [[30, 40], [37, 12], [11, 32], [49, 29], [28, 35], [28, 32]],\n",
       " [[30, 40], [11, 32], [28, 32], [28, 35], [49, 29], [37, 12]]]"
      ]
     },
     "execution_count": 22,
     "metadata": {},
     "output_type": "execute_result"
    }
   ],
   "source": [
    "cros1"
   ]
  },
  {
   "cell_type": "code",
   "execution_count": 23,
   "id": "36e03563",
   "metadata": {},
   "outputs": [
    {
     "data": {
      "text/plain": [
       "[104.0744771333658,\n",
       " 113.17379333823477,\n",
       " 129.415889486932,\n",
       " 125.09455665036572,\n",
       " 124.03786695398387,\n",
       " 138.4002457433362,\n",
       " 130.9902957871092,\n",
       " 127.10287622360956,\n",
       " 132.8689563372058,\n",
       " 112.1262492219383]"
      ]
     },
     "execution_count": 23,
     "metadata": {},
     "output_type": "execute_result"
    }
   ],
   "source": [
    "jarak1=totaljarak(cros1)\n",
    "jarak1"
   ]
  },
  {
   "cell_type": "code",
   "execution_count": 24,
   "id": "7e165e3e",
   "metadata": {},
   "outputs": [],
   "source": [
    "seleksi(peluang,jarak1,populasi1)"
   ]
  },
  {
   "cell_type": "code",
   "execution_count": 25,
   "id": "ac4d5c46",
   "metadata": {},
   "outputs": [
    {
     "data": {
      "text/plain": [
       "[[[30, 40], [49, 29], [37, 12], [28, 32], [11, 32], [28, 35]],\n",
       " [[30, 40], [28, 35], [28, 32], [37, 12], [49, 29], [11, 32]],\n",
       " [[30, 40], [28, 32], [49, 29], [37, 12], [11, 32], [28, 35]],\n",
       " [[30, 40], [11, 32], [28, 32], [37, 12], [49, 29], [28, 35]],\n",
       " [[30, 40], [49, 29], [37, 12], [28, 32], [11, 32], [28, 35]],\n",
       " [[30, 40], [28, 35], [28, 32], [37, 12], [49, 29], [11, 32]],\n",
       " [[30, 40], [28, 32], [37, 12], [11, 32], [49, 29], [28, 35]],\n",
       " [[30, 40], [11, 32], [28, 32], [37, 12], [49, 29], [28, 35]]]"
      ]
     },
     "execution_count": 25,
     "metadata": {},
     "output_type": "execute_result"
    }
   ],
   "source": [
    "populasiterpilih"
   ]
  },
  {
   "cell_type": "code",
   "execution_count": 26,
   "id": "6f854cfb",
   "metadata": {},
   "outputs": [],
   "source": [
    "# FUNGSI CROSOVER\n",
    "def crosover(data,peluang):\n",
    "    data1=list(data)\n",
    "    from random import randint\n",
    "    n=randint(0,len(data1[0]))\n",
    "    for i in range (0,len(data1),2):\n",
    "        h=crosover1(n,data1[i],data1[(i+1)%len(data1)])\n",
    "        data1[i],data1[(i+1)%len(data1)]=h[0],h[1]\n",
    "    jarak1=totaljarak(data1)\n",
    "    seleksi(peluang,jarak1,data1)"
   ]
  },
  {
   "cell_type": "markdown",
   "id": "1db20c72",
   "metadata": {},
   "source": [
    "# 5. Mutasi"
   ]
  },
  {
   "cell_type": "code",
   "execution_count": 27,
   "id": "5d99b39c",
   "metadata": {},
   "outputs": [
    {
     "name": "stdout",
     "output_type": "stream",
     "text": [
      "[[30, 40], [49, 29], [37, 12], [28, 32], [11, 32], [28, 35]]\n"
     ]
    }
   ],
   "source": [
    "data1=list(populasi1[0])\n",
    "print(data1)"
   ]
  },
  {
   "cell_type": "code",
   "execution_count": 28,
   "id": "f003fdca",
   "metadata": {},
   "outputs": [
    {
     "data": {
      "text/plain": [
       "[3, 4]"
      ]
     },
     "execution_count": 28,
     "metadata": {},
     "output_type": "execute_result"
    }
   ],
   "source": [
    "from random import randint\n",
    "n=[randint(0,len(data1)),randint(0,len(data1))]\n",
    "n"
   ]
  },
  {
   "cell_type": "code",
   "execution_count": 29,
   "id": "e3ca814b",
   "metadata": {},
   "outputs": [
    {
     "data": {
      "text/plain": [
       "[[30, 40], [49, 29], [37, 12], [11, 32], [28, 32], [28, 35]]"
      ]
     },
     "execution_count": 29,
     "metadata": {},
     "output_type": "execute_result"
    }
   ],
   "source": [
    "data1[n[0]],data1[n[1]]=data1[n[1]],data1[n[0]]\n",
    "data1"
   ]
  },
  {
   "cell_type": "code",
   "execution_count": 30,
   "id": "1e126e1b",
   "metadata": {},
   "outputs": [
    {
     "data": {
      "text/plain": [
       "[[[30, 40], [49, 29], [37, 12], [28, 32], [11, 32], [28, 35]],\n",
       " [[30, 40], [28, 35], [28, 32], [37, 12], [49, 29], [11, 32]],\n",
       " [[30, 40], [28, 32], [49, 29], [37, 12], [11, 32], [28, 35]],\n",
       " [[30, 40], [37, 12], [11, 32], [28, 32], [28, 35], [49, 29]],\n",
       " [[30, 40], [28, 32], [37, 12], [11, 32], [49, 29], [28, 35]],\n",
       " [[30, 40], [28, 32], [49, 29], [11, 32], [37, 12], [28, 35]],\n",
       " [[30, 40], [37, 12], [28, 35], [49, 29], [28, 32], [11, 32]],\n",
       " [[30, 40], [28, 35], [49, 29], [11, 32], [28, 32], [37, 12]],\n",
       " [[30, 40], [37, 12], [11, 32], [28, 32], [28, 35], [49, 29]],\n",
       " [[30, 40], [11, 32], [28, 32], [37, 12], [49, 29], [28, 35]]]"
      ]
     },
     "execution_count": 30,
     "metadata": {},
     "output_type": "execute_result"
    }
   ],
   "source": [
    "mutasi1=list(populasi1)\n",
    "mutasi1"
   ]
  },
  {
   "cell_type": "code",
   "execution_count": 31,
   "id": "f5be76bc",
   "metadata": {},
   "outputs": [],
   "source": [
    "def mutasi2(data):\n",
    "    from random import randint\n",
    "    n=[randint(1,len(data[0])-1),randint(1,len(data[0])-1)]\n",
    "    for i in range (len(data)):\n",
    "        data[i][n[0]],data[i][n[1]]=data[i][n[1]],data[i][n[0]]\n",
    "    return data\n",
    "# tidak dipakai"
   ]
  },
  {
   "cell_type": "code",
   "execution_count": 32,
   "id": "ede94515",
   "metadata": {},
   "outputs": [
    {
     "data": {
      "text/plain": [
       "[[[30, 40], [49, 29], [37, 12], [28, 32], [11, 32], [28, 35]],\n",
       " [[30, 40], [28, 35], [28, 32], [37, 12], [49, 29], [11, 32]],\n",
       " [[30, 40], [28, 32], [49, 29], [37, 12], [11, 32], [28, 35]],\n",
       " [[30, 40], [37, 12], [11, 32], [28, 32], [28, 35], [49, 29]],\n",
       " [[30, 40], [28, 32], [37, 12], [11, 32], [49, 29], [28, 35]],\n",
       " [[30, 40], [28, 32], [49, 29], [11, 32], [37, 12], [28, 35]],\n",
       " [[30, 40], [37, 12], [28, 35], [49, 29], [28, 32], [11, 32]],\n",
       " [[30, 40], [28, 35], [49, 29], [11, 32], [28, 32], [37, 12]],\n",
       " [[30, 40], [37, 12], [11, 32], [28, 32], [28, 35], [49, 29]],\n",
       " [[30, 40], [11, 32], [28, 32], [37, 12], [49, 29], [28, 35]]]"
      ]
     },
     "execution_count": 32,
     "metadata": {},
     "output_type": "execute_result"
    }
   ],
   "source": [
    "hasilmutasi=mutasi2(mutasi1)\n",
    "hasilmutasi"
   ]
  },
  {
   "cell_type": "code",
   "execution_count": 33,
   "id": "80d008af",
   "metadata": {},
   "outputs": [],
   "source": [
    "jarak1=totaljarak(hasilmutasi)"
   ]
  },
  {
   "cell_type": "code",
   "execution_count": 34,
   "id": "3f1a1329",
   "metadata": {},
   "outputs": [],
   "source": [
    "peluang=0.2\n",
    "seleksi(peluang,jarak1,populasi1)"
   ]
  },
  {
   "cell_type": "code",
   "execution_count": 35,
   "id": "79bd1c0c",
   "metadata": {},
   "outputs": [],
   "source": [
    "def mutasi(data,peluang):\n",
    "    data1=list(data)\n",
    "    from random import randint\n",
    "    n=[randint(1,len(data1[0])-1),randint(1,len(data1[0])-1)]\n",
    "    for i in range (len(data1)):\n",
    "        data1[i][n[0]],data1[i][n[1]]=data1[i][n[1]],data1[i][n[0]]\n",
    "    jarak1=totaljarak(data1)\n",
    "    seleksi(peluang,jarak1,data1)"
   ]
  },
  {
   "cell_type": "markdown",
   "id": "66c709cb",
   "metadata": {},
   "source": [
    "# POPULASI BARU (HASIL ITERASI 1)"
   ]
  },
  {
   "cell_type": "code",
   "execution_count": 36,
   "id": "ad9df28e",
   "metadata": {},
   "outputs": [
    {
     "data": {
      "text/plain": [
       "[[[30, 40], [49, 29], [37, 12], [28, 32], [11, 32], [28, 35]],\n",
       " [[30, 40], [28, 35], [28, 32], [37, 12], [49, 29], [11, 32]],\n",
       " [[30, 40], [28, 32], [49, 29], [37, 12], [11, 32], [28, 35]],\n",
       " [[30, 40], [11, 32], [28, 32], [37, 12], [49, 29], [28, 35]],\n",
       " [[30, 40], [49, 29], [37, 12], [28, 32], [11, 32], [28, 35]],\n",
       " [[30, 40], [28, 35], [28, 32], [37, 12], [49, 29], [11, 32]],\n",
       " [[30, 40], [28, 32], [37, 12], [11, 32], [49, 29], [28, 35]],\n",
       " [[30, 40], [11, 32], [28, 32], [37, 12], [49, 29], [28, 35]],\n",
       " [[30, 40], [49, 29], [37, 12], [28, 32], [11, 32], [28, 35]],\n",
       " [[30, 40], [28, 32], [49, 29], [37, 12], [11, 32], [28, 35]]]"
      ]
     },
     "execution_count": 36,
     "metadata": {},
     "output_type": "execute_result"
    }
   ],
   "source": [
    "populasiterpilih"
   ]
  },
  {
   "cell_type": "code",
   "execution_count": 37,
   "id": "ac5d9443",
   "metadata": {},
   "outputs": [],
   "source": [
    "populasiterpilih=[]\n",
    "def GA(data,asal):\n",
    "    populasi1=populasi(data,asal)\n",
    "    jarak1=totaljarak(populasi1)\n",
    "    seleksi(0.4,jarak1,populasi1)\n",
    "    crosover(populasi1,0.4)\n",
    "    mutasi(populasi1,0.2)"
   ]
  },
  {
   "cell_type": "code",
   "execution_count": 38,
   "id": "5174456d",
   "metadata": {},
   "outputs": [
    {
     "data": {
      "text/plain": [
       "[[[30, 40], [37, 12], [28, 32], [28, 35], [49, 29], [11, 32]],\n",
       " [[30, 40], [28, 35], [37, 12], [49, 29], [28, 32], [11, 32]],\n",
       " [[30, 40], [28, 35], [49, 29], [37, 12], [11, 32], [28, 32]],\n",
       " [[30, 40], [28, 35], [37, 12], [11, 32], [28, 32], [49, 29]],\n",
       " [[30, 40], [37, 12], [49, 29], [28, 35], [28, 32], [11, 32]],\n",
       " [[30, 40], [28, 35], [28, 32], [49, 29], [37, 12], [11, 32]],\n",
       " [[30, 40], [28, 35], [11, 32], [37, 12], [49, 29], [28, 32]],\n",
       " [[30, 40], [28, 35], [28, 32], [11, 32], [37, 12], [49, 29]],\n",
       " [[30, 40], [11, 32], [28, 32], [28, 35], [37, 12], [49, 29]],\n",
       " [[30, 40], [28, 35], [49, 29], [37, 12], [11, 32], [28, 32]]]"
      ]
     },
     "execution_count": 38,
     "metadata": {},
     "output_type": "execute_result"
    }
   ],
   "source": [
    "GA(lokasi1,asal1)\n",
    "populasiterpilih"
   ]
  },
  {
   "cell_type": "code",
   "execution_count": 42,
   "id": "ae2fce64",
   "metadata": {},
   "outputs": [],
   "source": [
    "jarak1=totaljarak(populasiterpilih)"
   ]
  },
  {
   "cell_type": "code",
   "execution_count": 43,
   "id": "39c19ba7",
   "metadata": {},
   "outputs": [
    {
     "data": {
      "text/plain": [
       "[134.36754647980663,\n",
       " 109.72072648796097,\n",
       " 106.08279670660964,\n",
       " 123.05348364700147,\n",
       " 112.1262492219383,\n",
       " 103.82498735121749,\n",
       " 105.7183469759966,\n",
       " 100.95075418763292,\n",
       " 108.0768566453302,\n",
       " 106.08279670660964]"
      ]
     },
     "execution_count": 43,
     "metadata": {},
     "output_type": "execute_result"
    }
   ],
   "source": [
    "jarak1"
   ]
  },
  {
   "cell_type": "code",
   "execution_count": null,
   "id": "855dd066",
   "metadata": {},
   "outputs": [],
   "source": []
  }
 ],
 "metadata": {
  "kernelspec": {
   "display_name": "Python 3",
   "language": "python",
   "name": "python3"
  },
  "language_info": {
   "codemirror_mode": {
    "name": "ipython",
    "version": 3
   },
   "file_extension": ".py",
   "mimetype": "text/x-python",
   "name": "python",
   "nbconvert_exporter": "python",
   "pygments_lexer": "ipython3",
   "version": "3.8.8"
  }
 },
 "nbformat": 4,
 "nbformat_minor": 5
}
