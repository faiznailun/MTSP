{
 "cells": [
  {
   "cell_type": "markdown",
   "id": "0fc54513",
   "metadata": {},
   "source": [
    "# Dataset"
   ]
  },
  {
   "cell_type": "code",
   "execution_count": 72,
   "id": "da1b72f1",
   "metadata": {},
   "outputs": [],
   "source": [
    "from random import randint, seed\n",
    "seed(23)\n",
    "dataset=[[randint(0,199),randint(0,199)] for i in range (4)]\n",
    "titikasal=[randint(0,199),randint(0,199)]"
   ]
  },
  {
   "cell_type": "code",
   "execution_count": 73,
   "id": "177bf3f4",
   "metadata": {},
   "outputs": [
    {
     "data": {
      "text/plain": [
       "<matplotlib.collections.PathCollection at 0x273d686e6d0>"
      ]
     },
     "execution_count": 73,
     "metadata": {},
     "output_type": "execute_result"
    },
    {
     "data": {
      "image/png": "[encoded data removed]",
      "text/plain": [
       "<Figure size 432x288 with 1 Axes>"
      ]
     },
     "metadata": {
      "needs_background": "light"
     },
     "output_type": "display_data"
    }
   ],
   "source": [
    "import matplotlib.pyplot as plt\n",
    "plt.scatter([i[0] for i in dataset],[i[1] for i in dataset])\n",
    "plt.scatter(titikasal[0],titikasal[1],c='red',s=100)"
   ]
  },
  {
   "cell_type": "markdown",
   "id": "db882f4a",
   "metadata": {},
   "source": [
    "# Proses"
   ]
  },
  {
   "cell_type": "code",
   "execution_count": 74,
   "id": "68cedf59",
   "metadata": {},
   "outputs": [],
   "source": [
    "def jarak(A,B):\n",
    "    h=((A[0]-B[0])**2+(A[1]-B[1])**2)**(1/2)\n",
    "    return h\n",
    "\n",
    "def crosover1(n,data1,data2):\n",
    "    data1temp=list(data1[:n])\n",
    "    data2temp=list(data2[:n])\n",
    "    for i in range(len(data1)):\n",
    "        if data2[(i+n)%len(data1)] not in data1[:n]:\n",
    "            data1temp.append(data2[(i+n)%len(data1)])\n",
    "        if data1[(i+n)%len(data1)] not in data2[:n]:\n",
    "            data2temp.append(data1[(i+n)%len(data1)])\n",
    "    return list([data1temp, data2temp])\n",
    "\n",
    "def GA(dataset,asal):\n",
    "    from random import shuffle, randint\n",
    "    \n",
    "    # Populasi(dataset,asal)\n",
    "    banyak=10\n",
    "    populasi1=list([])\n",
    "    lokasi2=list(dataset)\n",
    "    for i in range(banyak):\n",
    "        asal2=list([asal])\n",
    "        shuffle(lokasi2)\n",
    "        asal2.extend(lokasi2)\n",
    "        populasi1.append(asal2)\n",
    "    ## return populasi1\n",
    "    \n",
    "    beda=True\n",
    "    while beda:\n",
    "        # Menghitung fitnes (populasi1)\n",
    "        populasiterpilih=list([])\n",
    "        jarak1=list([])\n",
    "        for i in populasi1:\n",
    "            jarak2=0\n",
    "            for j in range (len(i)):\n",
    "                jarak3=jarak(i[j],i[(j+1)%len(i)])\n",
    "                jarak2+=jarak3\n",
    "            jarak1.append(jarak2)\n",
    "        ## return jarak1\n",
    "        \n",
    "        # Seleksi(peluang,datajarak,populasi):\n",
    "        jarak2=list(jarak1)\n",
    "        jarak2.sort()\n",
    "        peluang=0.4\n",
    "        jmin1=[jarak2[i] for i in range(int(peluang*len(jarak1)))]\n",
    "        n=0\n",
    "        for i in range(len(jarak1)):\n",
    "            if jarak1[i] in jmin1:\n",
    "                populasiterpilih.append(populasi1[i])\n",
    "                n+=1\n",
    "            if n==peluang*10:\n",
    "                break\n",
    "        \n",
    "        # Crosover(data,peluang):\n",
    "        data1=list(populasi1)\n",
    "        peluang=0.4\n",
    "        n=randint(0,len(data1[0]))\n",
    "        for i in range (0,len(data1),2):\n",
    "            h=crosover1(n,data1[i],data1[(i+1)%len(data1)])\n",
    "            data1[i],data1[(i+1)%len(data1)]=h[0],h[1]\n",
    "        ## jarak dari crosover (populasi)\n",
    "        jarak1=list([])\n",
    "        for i in data1:\n",
    "            jarak2=0\n",
    "            for j in range (len(i)):\n",
    "                jarak3=jarak(i[j],i[(j+1)%len(i)])\n",
    "                jarak2+=jarak3\n",
    "            jarak1.append(jarak2)\n",
    "        ## seleksi dari crosover (peluang,datajarak,populasi)\n",
    "        jarak2=list(jarak1)\n",
    "        jarak2.sort()\n",
    "        jmin1=[jarak2[i] for i in range(int(peluang*len(jarak1)))]\n",
    "        n=0\n",
    "        for i in range(len(jarak1)):\n",
    "            if jarak1[i] in jmin1:\n",
    "                populasiterpilih.append(data1[i])\n",
    "                n+=1\n",
    "            if n==peluang*10:\n",
    "                break\n",
    "        \n",
    "        # Mutasi(data,peluang):\n",
    "        data1=list(populasi1)\n",
    "        peluang=0.2\n",
    "        n=[randint(1,len(data1[0])-1),randint(1,len(data1[0])-1)]\n",
    "        for i in range (len(data1)):\n",
    "            data1[i][n[0]],data1[i][n[1]]=data1[i][n[1]],data1[i][n[0]]\n",
    "        ## jarak dari mutasi (populasi)\n",
    "        jarak1=list([])\n",
    "        for i in data1:\n",
    "            jarak2=0\n",
    "            for j in range (len(i)):\n",
    "                jarak3=jarak(i[j],i[(j+1)%len(i)])\n",
    "                jarak2+=jarak3\n",
    "            jarak1.append(jarak2)\n",
    "        ## seleksi dari mutasi (peluang,datajarak,populasi)\n",
    "        jarak2=list(jarak1)\n",
    "        jarak2.sort()\n",
    "        jmin1=[jarak2[i] for i in range(int(peluang*len(jarak1)))]\n",
    "        n=0\n",
    "        for i in range(len(jarak1)):\n",
    "            if jarak1[i] in jmin1:\n",
    "                populasiterpilih.append(data1[i])\n",
    "                n+=1\n",
    "            if n==peluang*10:\n",
    "                break\n",
    "        \n",
    "        ## jarak dari populasi terpilih (populasi)\n",
    "        jarak1=list([])\n",
    "        for i in populasiterpilih:\n",
    "            jarak2=0\n",
    "            for j in range (len(i)):\n",
    "                jarak3=jarak(i[j],i[(j+1)%len(i)])\n",
    "                jarak2+=jarak3\n",
    "            jarak1.append(jarak2)\n",
    "        jarak1.sort()\n",
    "        if jarak1[0]==jarak1[9]:\n",
    "            beda=False\n",
    "        populasi1=list(populasiterpilih)\n",
    "    return populasiterpilih[0]"
   ]
  },
  {
   "cell_type": "code",
   "execution_count": 78,
   "id": "c809f340",
   "metadata": {},
   "outputs": [
    {
     "data": {
      "text/plain": [
       "<matplotlib.collections.PathCollection at 0x273d6931820>"
      ]
     },
     "execution_count": 78,
     "metadata": {},
     "output_type": "execute_result"
    },
    {
     "data": {
      "image/png": "[encoded data removed]",
      "text/plain": [
       "<Figure size 432x288 with 1 Axes>"
      ]
     },
     "metadata": {
      "needs_background": "light"
     },
     "output_type": "display_data"
    }
   ],
   "source": [
    "populasi=GA(dataset,titikasal)\n",
    "\n",
    "import matplotlib.pyplot as plt\n",
    "plt.plot([i[0] for i in populasi],[i[1] for i in populasi])\n",
    "plt.scatter(titikasal[0],titikasal[1],c='red')\n",
    "plt.scatter([i[0] for i in dataset],[i[1] for i in dataset],c='yellow')"
   ]
  },
  {
   "cell_type": "code",
   "execution_count": null,
   "id": "24c240cb",
   "metadata": {},
   "outputs": [],
   "source": []
  }
 ],
 "metadata": {
  "kernelspec": {
   "display_name": "Python 3",
   "language": "python",
   "name": "python3"
  },
  "language_info": {
   "codemirror_mode": {
    "name": "ipython",
    "version": 3
   },
   "file_extension": ".py",
   "mimetype": "text/x-python",
   "name": "python",
   "nbconvert_exporter": "python",
   "pygments_lexer": "ipython3",
   "version": "3.8.8"
  }
 },
 "nbformat": 4,
 "nbformat_minor": 5
}
